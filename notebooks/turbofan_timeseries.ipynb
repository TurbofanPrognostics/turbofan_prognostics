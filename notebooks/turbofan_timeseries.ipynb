{
 "cells": [
  {
   "cell_type": "markdown",
   "id": "03079f03-43e4-4e7d-a107-49105a08c175",
   "metadata": {},
   "source": [
    "## Using time series for predictive mainteneance of turbofan engines"
   ]
  },
  {
   "cell_type": "code",
   "execution_count": 1,
   "id": "469a9db6-fdc0-400e-9cc1-29579810b836",
   "metadata": {},
   "outputs": [],
   "source": [
    "# Imports\n",
    "import numpy as np\n",
    "import pandas as pd\n",
    "import matplotlib.pyplot as plt\n",
    "import seaborn as sns\n",
    "\n",
    "from sklearn.linear_model import LinearRegression\n",
    "from sklearn.metrics import mean_squared_error, r2_score"
   ]
  },
  {
   "cell_type": "code",
   "execution_count": 2,
   "id": "8d1ab783-ddb9-469d-adca-d292fc4c3998",
   "metadata": {},
   "outputs": [],
   "source": [
    "# Data import\n",
    "data_dir = \"../../data/CMAPSSData/\""
   ]
  },
  {
   "cell_type": "code",
   "execution_count": 3,
   "id": "c532f943-6ce9-440a-9494-fe9189e81477",
   "metadata": {},
   "outputs": [],
   "source": [
    "sensor_colnames = [f\"sensor{i}\" for i in range(1,22, 1)]"
   ]
  },
  {
   "cell_type": "code",
   "execution_count": 4,
   "id": "999603c9-2aa8-466a-9664-f0a97dbf53e9",
   "metadata": {},
   "outputs": [],
   "source": [
    "engine_colnames = [\"unit_number\", \"cycles\", \"operational_setting_1\", \"operational_setting_2\", \"operational_setting_3\"] + sensor_colnames"
   ]
  },
  {
   "cell_type": "code",
   "execution_count": 5,
   "id": "f3e04117-ea72-4965-9c21-f315bd845ba1",
   "metadata": {},
   "outputs": [],
   "source": [
    "train_fd001_raw = pd.read_csv(f\"{data_dir}train_FD001.txt\", delim_whitespace=True, names=engine_colnames)\n",
    "train_fd002_raw = pd.read_csv(f\"{data_dir}train_FD002.txt\", delim_whitespace=True, names=engine_colnames)\n",
    "train_fd003_raw = pd.read_csv(f\"{data_dir}train_FD003.txt\", delim_whitespace=True, names=engine_colnames)\n",
    "train_fd004_raw = pd.read_csv(f\"{data_dir}train_FD004.txt\", delim_whitespace=True, names=engine_colnames)"
   ]
  },
  {
   "cell_type": "code",
   "execution_count": 6,
   "id": "e0222ad4-7bb0-40ef-87f0-8cdc20f436df",
   "metadata": {},
   "outputs": [],
   "source": [
    "test_fd001_raw = pd.read_csv(f\"{data_dir}test_FD001.txt\", delim_whitespace=True, names=engine_colnames)\n",
    "test_fd002_raw = pd.read_csv(f\"{data_dir}test_FD002.txt\", delim_whitespace=True, names=engine_colnames)\n",
    "test_fd003_raw = pd.read_csv(f\"{data_dir}test_FD003.txt\", delim_whitespace=True, names=engine_colnames)\n",
    "test_fd004_raw = pd.read_csv(f\"{data_dir}test_FD004.txt\", delim_whitespace=True, names=engine_colnames)"
   ]
  },
  {
   "cell_type": "code",
   "execution_count": 7,
   "id": "d0c0f8e9-8da3-4b53-ae2a-e46f9d049121",
   "metadata": {},
   "outputs": [],
   "source": [
    "rul_fd001_raw = pd.read_csv(f\"{data_dir}RUL_FD001.txt\", names=[\"rul_fd001\"], squeeze=True)\n",
    "rul_fd002_raw = pd.read_csv(f\"{data_dir}RUL_FD002.txt\", names=[\"rul_fd002\"], squeeze=True)\n",
    "rul_fd003_raw = pd.read_csv(f\"{data_dir}RUL_FD003.txt\", names=[\"rul_fd003\"], squeeze=True)\n",
    "rul_fd004_raw = pd.read_csv(f\"{data_dir}RUL_FD004.txt\", names=[\"rul_fd004\"], squeeze=True)"
   ]
  },
  {
   "cell_type": "code",
   "execution_count": 8,
   "id": "4be832d9-a1b8-48ee-915f-b20161a32377",
   "metadata": {},
   "outputs": [],
   "source": [
    "rul_df = pd.DataFrame({\"rul_fd001\": rul_fd001_raw, \"rul_fd002\": rul_fd002_raw, \"rul_fd003\": rul_fd003_raw, \"rul_fd004\": rul_fd004_raw}, dtype=int)"
   ]
  },
  {
   "cell_type": "code",
   "execution_count": 9,
   "id": "7dec4bec-7fbb-444a-a2e8-39f49fe86b44",
   "metadata": {},
   "outputs": [],
   "source": [
    "#rul_fd001_raw"
   ]
  },
  {
   "cell_type": "code",
   "execution_count": 10,
   "id": "31d53b31-185e-442d-9479-683291235df6",
   "metadata": {},
   "outputs": [],
   "source": [
    "#rul_df"
   ]
  },
  {
   "cell_type": "markdown",
   "id": "82a6ef97-0bc8-480f-9169-70bdc9de519f",
   "metadata": {},
   "source": [
    "### Assumptions\n",
    "\n",
    "- data in rul_ are useful life of a particular unit\n",
    "- unit number and trejectories are synonyms\n",
    "- data in rul_ are ordered by thier unit number\n",
    "- rul_df represent test set remaining useful life"
   ]
  },
  {
   "cell_type": "code",
   "execution_count": 10,
   "id": "9304ba54-5c2a-4032-ba0a-ba8d0408c5a5",
   "metadata": {},
   "outputs": [],
   "source": [
    "rul_df[\"unit_number\"] = list(range(1, rul_df.shape[0] + 1))"
   ]
  },
  {
   "cell_type": "code",
   "execution_count": 11,
   "id": "dad03d94-8465-42a1-baba-c4e5d8d7727a",
   "metadata": {},
   "outputs": [],
   "source": [
    "cols = rul_df.columns.tolist()\n",
    "cols = cols[-1:] + cols[:-1]\n",
    "rul_df = rul_df[cols]"
   ]
  },
  {
   "cell_type": "code",
   "execution_count": 12,
   "id": "bf260902-abb6-45dc-bcff-f9e4fbee2561",
   "metadata": {},
   "outputs": [],
   "source": [
    "rul_df = rul_df.set_index(\"unit_number\")"
   ]
  },
  {
   "cell_type": "code",
   "execution_count": 13,
   "id": "5ac4ae61-ea48-488e-ba30-cd39f1420ce8",
   "metadata": {},
   "outputs": [],
   "source": [
    "rul_raw = pd.concat([rul_fd001_raw, rul_fd002_raw, rul_fd003_raw, rul_fd004_raw], axis=0)\n",
    "rul_raw.name = \"all_test_data\""
   ]
  },
  {
   "cell_type": "code",
   "execution_count": null,
   "id": "6b8a4e81-c1d2-4e99-9c3a-f7ac3b817d46",
   "metadata": {},
   "outputs": [],
   "source": []
  },
  {
   "cell_type": "markdown",
   "id": "6d63c083-d5a8-49f2-a41b-2c21ebfd3223",
   "metadata": {},
   "source": [
    "### Model data transformation"
   ]
  },
  {
   "cell_type": "code",
   "execution_count": 14,
   "id": "5d33a346-2dae-447b-878a-ca136497fbb4",
   "metadata": {},
   "outputs": [],
   "source": [
    "train_fd001 = train_fd001_raw.copy()\n",
    "train_fd002 = train_fd002_raw.copy()\n",
    "train_fd003 = train_fd003_raw.copy()\n",
    "train_fd004 = train_fd004_raw.copy()"
   ]
  },
  {
   "cell_type": "code",
   "execution_count": 15,
   "id": "10d18788-2f4b-4b66-8c83-e69ea7fd80f4",
   "metadata": {},
   "outputs": [],
   "source": [
    "test_fd001 = test_fd001_raw.copy()\n",
    "test_fd002 = test_fd002_raw.copy()\n",
    "test_fd003 = test_fd003_raw.copy()\n",
    "test_fd004 = test_fd004_raw.copy()"
   ]
  },
  {
   "cell_type": "code",
   "execution_count": 16,
   "id": "b6dc4e7d-13eb-45b5-b71f-520ef726eb52",
   "metadata": {},
   "outputs": [],
   "source": [
    "# assuming linear reduction on remaining useful life\n",
    "train_fd001[\"rul\"] = train_fd001.groupby([\"unit_number\"], group_keys=False).apply(lambda g: max(g.cycles) - g.cycles)\n",
    "train_fd002[\"rul\"] = train_fd002.groupby([\"unit_number\"], group_keys=False).apply(lambda g: max(g.cycles) - g.cycles)\n",
    "train_fd003[\"rul\"] = train_fd003.groupby([\"unit_number\"], group_keys=False).apply(lambda g: max(g.cycles) - g.cycles)\n",
    "train_fd004[\"rul\"] = train_fd004.groupby([\"unit_number\"], group_keys=False).apply(lambda g: max(g.cycles) - g.cycles)"
   ]
  },
  {
   "cell_type": "code",
   "execution_count": 17,
   "id": "12917e4b-4c60-4c73-846c-64b0687dbffd",
   "metadata": {},
   "outputs": [],
   "source": [
    "train_fd001[\"dataset\"] = \"fd001\"\n",
    "train_fd002[\"dataset\"] = \"fd002\"\n",
    "train_fd003[\"dataset\"] = \"fd003\"\n",
    "train_fd004[\"dataset\"] = \"fd004\""
   ]
  },
  {
   "cell_type": "code",
   "execution_count": 18,
   "id": "189ccc19-fc57-47b0-a50b-3ebd57dde4b8",
   "metadata": {},
   "outputs": [],
   "source": [
    "test_fd001[\"dataset\"] = \"fd001\"\n",
    "test_fd002[\"dataset\"] = \"fd002\"\n",
    "test_fd003[\"dataset\"] = \"fd003\"\n",
    "test_fd004[\"dataset\"] = \"fd004\""
   ]
  },
  {
   "cell_type": "code",
   "execution_count": 19,
   "id": "2a82d3e6-3290-490b-9eac-fc5f9c9fc529",
   "metadata": {},
   "outputs": [],
   "source": [
    "train = pd.concat([train_fd001, train_fd002, train_fd003, train_fd004], axis=0)"
   ]
  },
  {
   "cell_type": "code",
   "execution_count": 20,
   "id": "b92274aa-184b-463a-8990-0bad28f2f813",
   "metadata": {},
   "outputs": [],
   "source": [
    "train = train.set_index([ \"dataset\", \"unit_number\", \"cycles\"])"
   ]
  },
  {
   "cell_type": "code",
   "execution_count": 21,
   "id": "ec105f72-ab6f-4015-b0e1-c927d61c2e71",
   "metadata": {},
   "outputs": [],
   "source": [
    "test = pd.concat([test_fd001, test_fd002, test_fd003, test_fd004], axis=0)"
   ]
  },
  {
   "cell_type": "code",
   "execution_count": 22,
   "id": "e2e61252-a6d3-4d2d-a595-d7cf1ea925f5",
   "metadata": {},
   "outputs": [],
   "source": [
    "test = test.set_index([ \"dataset\", \"unit_number\", \"cycles\"])"
   ]
  },
  {
   "cell_type": "code",
   "execution_count": 23,
   "id": "53749c48-6c0e-4c93-9ae4-1c7280202c2e",
   "metadata": {},
   "outputs": [
    {
     "data": {
      "text/html": [
       "<div>\n",
       "<style scoped>\n",
       "    .dataframe tbody tr th:only-of-type {\n",
       "        vertical-align: middle;\n",
       "    }\n",
       "\n",
       "    .dataframe tbody tr th {\n",
       "        vertical-align: top;\n",
       "    }\n",
       "\n",
       "    .dataframe thead th {\n",
       "        text-align: right;\n",
       "    }\n",
       "</style>\n",
       "<table border=\"1\" class=\"dataframe\">\n",
       "  <thead>\n",
       "    <tr style=\"text-align: right;\">\n",
       "      <th></th>\n",
       "      <th>operational_setting_1</th>\n",
       "      <th>operational_setting_2</th>\n",
       "      <th>operational_setting_3</th>\n",
       "      <th>sensor1</th>\n",
       "      <th>sensor2</th>\n",
       "      <th>sensor3</th>\n",
       "      <th>sensor4</th>\n",
       "      <th>sensor5</th>\n",
       "      <th>sensor6</th>\n",
       "      <th>sensor7</th>\n",
       "      <th>...</th>\n",
       "      <th>sensor13</th>\n",
       "      <th>sensor14</th>\n",
       "      <th>sensor15</th>\n",
       "      <th>sensor16</th>\n",
       "      <th>sensor17</th>\n",
       "      <th>sensor18</th>\n",
       "      <th>sensor19</th>\n",
       "      <th>sensor20</th>\n",
       "      <th>sensor21</th>\n",
       "      <th>rul</th>\n",
       "    </tr>\n",
       "    <tr>\n",
       "      <th>cycles</th>\n",
       "      <th></th>\n",
       "      <th></th>\n",
       "      <th></th>\n",
       "      <th></th>\n",
       "      <th></th>\n",
       "      <th></th>\n",
       "      <th></th>\n",
       "      <th></th>\n",
       "      <th></th>\n",
       "      <th></th>\n",
       "      <th></th>\n",
       "      <th></th>\n",
       "      <th></th>\n",
       "      <th></th>\n",
       "      <th></th>\n",
       "      <th></th>\n",
       "      <th></th>\n",
       "      <th></th>\n",
       "      <th></th>\n",
       "      <th></th>\n",
       "      <th></th>\n",
       "    </tr>\n",
       "  </thead>\n",
       "  <tbody>\n",
       "    <tr>\n",
       "      <th>1</th>\n",
       "      <td>-0.0007</td>\n",
       "      <td>-0.0004</td>\n",
       "      <td>100.0</td>\n",
       "      <td>518.67</td>\n",
       "      <td>641.82</td>\n",
       "      <td>1589.70</td>\n",
       "      <td>1400.60</td>\n",
       "      <td>14.62</td>\n",
       "      <td>21.61</td>\n",
       "      <td>554.36</td>\n",
       "      <td>...</td>\n",
       "      <td>2388.02</td>\n",
       "      <td>8138.62</td>\n",
       "      <td>8.4195</td>\n",
       "      <td>0.03</td>\n",
       "      <td>392</td>\n",
       "      <td>2388</td>\n",
       "      <td>100.0</td>\n",
       "      <td>39.06</td>\n",
       "      <td>23.4190</td>\n",
       "      <td>191</td>\n",
       "    </tr>\n",
       "    <tr>\n",
       "      <th>2</th>\n",
       "      <td>0.0019</td>\n",
       "      <td>-0.0003</td>\n",
       "      <td>100.0</td>\n",
       "      <td>518.67</td>\n",
       "      <td>642.15</td>\n",
       "      <td>1591.82</td>\n",
       "      <td>1403.14</td>\n",
       "      <td>14.62</td>\n",
       "      <td>21.61</td>\n",
       "      <td>553.75</td>\n",
       "      <td>...</td>\n",
       "      <td>2388.07</td>\n",
       "      <td>8131.49</td>\n",
       "      <td>8.4318</td>\n",
       "      <td>0.03</td>\n",
       "      <td>392</td>\n",
       "      <td>2388</td>\n",
       "      <td>100.0</td>\n",
       "      <td>39.00</td>\n",
       "      <td>23.4236</td>\n",
       "      <td>190</td>\n",
       "    </tr>\n",
       "    <tr>\n",
       "      <th>3</th>\n",
       "      <td>-0.0043</td>\n",
       "      <td>0.0003</td>\n",
       "      <td>100.0</td>\n",
       "      <td>518.67</td>\n",
       "      <td>642.35</td>\n",
       "      <td>1587.99</td>\n",
       "      <td>1404.20</td>\n",
       "      <td>14.62</td>\n",
       "      <td>21.61</td>\n",
       "      <td>554.26</td>\n",
       "      <td>...</td>\n",
       "      <td>2388.03</td>\n",
       "      <td>8133.23</td>\n",
       "      <td>8.4178</td>\n",
       "      <td>0.03</td>\n",
       "      <td>390</td>\n",
       "      <td>2388</td>\n",
       "      <td>100.0</td>\n",
       "      <td>38.95</td>\n",
       "      <td>23.3442</td>\n",
       "      <td>189</td>\n",
       "    </tr>\n",
       "    <tr>\n",
       "      <th>4</th>\n",
       "      <td>0.0007</td>\n",
       "      <td>0.0000</td>\n",
       "      <td>100.0</td>\n",
       "      <td>518.67</td>\n",
       "      <td>642.35</td>\n",
       "      <td>1582.79</td>\n",
       "      <td>1401.87</td>\n",
       "      <td>14.62</td>\n",
       "      <td>21.61</td>\n",
       "      <td>554.45</td>\n",
       "      <td>...</td>\n",
       "      <td>2388.08</td>\n",
       "      <td>8133.83</td>\n",
       "      <td>8.3682</td>\n",
       "      <td>0.03</td>\n",
       "      <td>392</td>\n",
       "      <td>2388</td>\n",
       "      <td>100.0</td>\n",
       "      <td>38.88</td>\n",
       "      <td>23.3739</td>\n",
       "      <td>188</td>\n",
       "    </tr>\n",
       "    <tr>\n",
       "      <th>5</th>\n",
       "      <td>-0.0019</td>\n",
       "      <td>-0.0002</td>\n",
       "      <td>100.0</td>\n",
       "      <td>518.67</td>\n",
       "      <td>642.37</td>\n",
       "      <td>1582.85</td>\n",
       "      <td>1406.22</td>\n",
       "      <td>14.62</td>\n",
       "      <td>21.61</td>\n",
       "      <td>554.00</td>\n",
       "      <td>...</td>\n",
       "      <td>2388.04</td>\n",
       "      <td>8133.80</td>\n",
       "      <td>8.4294</td>\n",
       "      <td>0.03</td>\n",
       "      <td>393</td>\n",
       "      <td>2388</td>\n",
       "      <td>100.0</td>\n",
       "      <td>38.90</td>\n",
       "      <td>23.4044</td>\n",
       "      <td>187</td>\n",
       "    </tr>\n",
       "    <tr>\n",
       "      <th>...</th>\n",
       "      <td>...</td>\n",
       "      <td>...</td>\n",
       "      <td>...</td>\n",
       "      <td>...</td>\n",
       "      <td>...</td>\n",
       "      <td>...</td>\n",
       "      <td>...</td>\n",
       "      <td>...</td>\n",
       "      <td>...</td>\n",
       "      <td>...</td>\n",
       "      <td>...</td>\n",
       "      <td>...</td>\n",
       "      <td>...</td>\n",
       "      <td>...</td>\n",
       "      <td>...</td>\n",
       "      <td>...</td>\n",
       "      <td>...</td>\n",
       "      <td>...</td>\n",
       "      <td>...</td>\n",
       "      <td>...</td>\n",
       "      <td>...</td>\n",
       "    </tr>\n",
       "    <tr>\n",
       "      <th>188</th>\n",
       "      <td>-0.0067</td>\n",
       "      <td>0.0003</td>\n",
       "      <td>100.0</td>\n",
       "      <td>518.67</td>\n",
       "      <td>643.75</td>\n",
       "      <td>1602.38</td>\n",
       "      <td>1422.78</td>\n",
       "      <td>14.62</td>\n",
       "      <td>21.61</td>\n",
       "      <td>551.94</td>\n",
       "      <td>...</td>\n",
       "      <td>2388.23</td>\n",
       "      <td>8117.69</td>\n",
       "      <td>8.5207</td>\n",
       "      <td>0.03</td>\n",
       "      <td>396</td>\n",
       "      <td>2388</td>\n",
       "      <td>100.0</td>\n",
       "      <td>38.51</td>\n",
       "      <td>22.9588</td>\n",
       "      <td>4</td>\n",
       "    </tr>\n",
       "    <tr>\n",
       "      <th>189</th>\n",
       "      <td>-0.0006</td>\n",
       "      <td>0.0002</td>\n",
       "      <td>100.0</td>\n",
       "      <td>518.67</td>\n",
       "      <td>644.18</td>\n",
       "      <td>1596.17</td>\n",
       "      <td>1428.01</td>\n",
       "      <td>14.62</td>\n",
       "      <td>21.61</td>\n",
       "      <td>550.70</td>\n",
       "      <td>...</td>\n",
       "      <td>2388.33</td>\n",
       "      <td>8117.51</td>\n",
       "      <td>8.5183</td>\n",
       "      <td>0.03</td>\n",
       "      <td>395</td>\n",
       "      <td>2388</td>\n",
       "      <td>100.0</td>\n",
       "      <td>38.48</td>\n",
       "      <td>23.1127</td>\n",
       "      <td>3</td>\n",
       "    </tr>\n",
       "    <tr>\n",
       "      <th>190</th>\n",
       "      <td>-0.0027</td>\n",
       "      <td>0.0001</td>\n",
       "      <td>100.0</td>\n",
       "      <td>518.67</td>\n",
       "      <td>643.64</td>\n",
       "      <td>1599.22</td>\n",
       "      <td>1425.95</td>\n",
       "      <td>14.62</td>\n",
       "      <td>21.61</td>\n",
       "      <td>551.29</td>\n",
       "      <td>...</td>\n",
       "      <td>2388.35</td>\n",
       "      <td>8112.58</td>\n",
       "      <td>8.5223</td>\n",
       "      <td>0.03</td>\n",
       "      <td>398</td>\n",
       "      <td>2388</td>\n",
       "      <td>100.0</td>\n",
       "      <td>38.49</td>\n",
       "      <td>23.0675</td>\n",
       "      <td>2</td>\n",
       "    </tr>\n",
       "    <tr>\n",
       "      <th>191</th>\n",
       "      <td>-0.0000</td>\n",
       "      <td>-0.0004</td>\n",
       "      <td>100.0</td>\n",
       "      <td>518.67</td>\n",
       "      <td>643.34</td>\n",
       "      <td>1602.36</td>\n",
       "      <td>1425.77</td>\n",
       "      <td>14.62</td>\n",
       "      <td>21.61</td>\n",
       "      <td>550.92</td>\n",
       "      <td>...</td>\n",
       "      <td>2388.30</td>\n",
       "      <td>8114.61</td>\n",
       "      <td>8.5174</td>\n",
       "      <td>0.03</td>\n",
       "      <td>394</td>\n",
       "      <td>2388</td>\n",
       "      <td>100.0</td>\n",
       "      <td>38.45</td>\n",
       "      <td>23.1295</td>\n",
       "      <td>1</td>\n",
       "    </tr>\n",
       "    <tr>\n",
       "      <th>192</th>\n",
       "      <td>0.0009</td>\n",
       "      <td>-0.0000</td>\n",
       "      <td>100.0</td>\n",
       "      <td>518.67</td>\n",
       "      <td>643.54</td>\n",
       "      <td>1601.41</td>\n",
       "      <td>1427.20</td>\n",
       "      <td>14.62</td>\n",
       "      <td>21.61</td>\n",
       "      <td>551.25</td>\n",
       "      <td>...</td>\n",
       "      <td>2388.32</td>\n",
       "      <td>8110.93</td>\n",
       "      <td>8.5113</td>\n",
       "      <td>0.03</td>\n",
       "      <td>396</td>\n",
       "      <td>2388</td>\n",
       "      <td>100.0</td>\n",
       "      <td>38.48</td>\n",
       "      <td>22.9649</td>\n",
       "      <td>0</td>\n",
       "    </tr>\n",
       "  </tbody>\n",
       "</table>\n",
       "<p>192 rows × 25 columns</p>\n",
       "</div>"
      ],
      "text/plain": [
       "        operational_setting_1  operational_setting_2  operational_setting_3  \\\n",
       "cycles                                                                        \n",
       "1                     -0.0007                -0.0004                  100.0   \n",
       "2                      0.0019                -0.0003                  100.0   \n",
       "3                     -0.0043                 0.0003                  100.0   \n",
       "4                      0.0007                 0.0000                  100.0   \n",
       "5                     -0.0019                -0.0002                  100.0   \n",
       "...                       ...                    ...                    ...   \n",
       "188                   -0.0067                 0.0003                  100.0   \n",
       "189                   -0.0006                 0.0002                  100.0   \n",
       "190                   -0.0027                 0.0001                  100.0   \n",
       "191                   -0.0000                -0.0004                  100.0   \n",
       "192                    0.0009                -0.0000                  100.0   \n",
       "\n",
       "        sensor1  sensor2  sensor3  sensor4  sensor5  sensor6  sensor7  ...  \\\n",
       "cycles                                                                 ...   \n",
       "1        518.67   641.82  1589.70  1400.60    14.62    21.61   554.36  ...   \n",
       "2        518.67   642.15  1591.82  1403.14    14.62    21.61   553.75  ...   \n",
       "3        518.67   642.35  1587.99  1404.20    14.62    21.61   554.26  ...   \n",
       "4        518.67   642.35  1582.79  1401.87    14.62    21.61   554.45  ...   \n",
       "5        518.67   642.37  1582.85  1406.22    14.62    21.61   554.00  ...   \n",
       "...         ...      ...      ...      ...      ...      ...      ...  ...   \n",
       "188      518.67   643.75  1602.38  1422.78    14.62    21.61   551.94  ...   \n",
       "189      518.67   644.18  1596.17  1428.01    14.62    21.61   550.70  ...   \n",
       "190      518.67   643.64  1599.22  1425.95    14.62    21.61   551.29  ...   \n",
       "191      518.67   643.34  1602.36  1425.77    14.62    21.61   550.92  ...   \n",
       "192      518.67   643.54  1601.41  1427.20    14.62    21.61   551.25  ...   \n",
       "\n",
       "        sensor13  sensor14  sensor15  sensor16  sensor17  sensor18  sensor19  \\\n",
       "cycles                                                                         \n",
       "1        2388.02   8138.62    8.4195      0.03       392      2388     100.0   \n",
       "2        2388.07   8131.49    8.4318      0.03       392      2388     100.0   \n",
       "3        2388.03   8133.23    8.4178      0.03       390      2388     100.0   \n",
       "4        2388.08   8133.83    8.3682      0.03       392      2388     100.0   \n",
       "5        2388.04   8133.80    8.4294      0.03       393      2388     100.0   \n",
       "...          ...       ...       ...       ...       ...       ...       ...   \n",
       "188      2388.23   8117.69    8.5207      0.03       396      2388     100.0   \n",
       "189      2388.33   8117.51    8.5183      0.03       395      2388     100.0   \n",
       "190      2388.35   8112.58    8.5223      0.03       398      2388     100.0   \n",
       "191      2388.30   8114.61    8.5174      0.03       394      2388     100.0   \n",
       "192      2388.32   8110.93    8.5113      0.03       396      2388     100.0   \n",
       "\n",
       "        sensor20  sensor21  rul  \n",
       "cycles                           \n",
       "1          39.06   23.4190  191  \n",
       "2          39.00   23.4236  190  \n",
       "3          38.95   23.3442  189  \n",
       "4          38.88   23.3739  188  \n",
       "5          38.90   23.4044  187  \n",
       "...          ...       ...  ...  \n",
       "188        38.51   22.9588    4  \n",
       "189        38.48   23.1127    3  \n",
       "190        38.49   23.0675    2  \n",
       "191        38.45   23.1295    1  \n",
       "192        38.48   22.9649    0  \n",
       "\n",
       "[192 rows x 25 columns]"
      ]
     },
     "execution_count": 23,
     "metadata": {},
     "output_type": "execute_result"
    }
   ],
   "source": [
    "# How to index into the training set\n",
    "# Select the first unit of fd001 dataset # Can unstack with tarain.unstack()\n",
    "train.loc[(\"fd001\", 1)]"
   ]
  },
  {
   "cell_type": "markdown",
   "id": "e770b4e0-ada1-498d-a167-334de4ae8482",
   "metadata": {},
   "source": [
    "### Using clipped RUL\n",
    "Assuming cliiped RUL over one that decreases linearly overtime may better reflect real operating condtions. See \n",
    "\n",
    "https://towardsdatascience.com/the-importance-of-problem-framing-for-supervised-predictive-maintenance-solutions-cc8646826093\n",
    "\n",
    "Training done only on the fd001 dataset"
   ]
  },
  {
   "cell_type": "code",
   "execution_count": 24,
   "id": "b7b0b629-8418-4b9f-ad00-d9b76e6e7259",
   "metadata": {},
   "outputs": [],
   "source": [
    "train[\"rul_clipped\"] = train.rul.clip(upper=125)"
   ]
  },
  {
   "cell_type": "code",
   "execution_count": 25,
   "id": "6686bc65-1aa9-4d88-bf24-74d59ebde367",
   "metadata": {},
   "outputs": [
    {
     "data": {
      "text/plain": [
       "dataset  unit_number  cycles\n",
       "fd001    1            1         125\n",
       "                      2         125\n",
       "                      3         125\n",
       "                      4         125\n",
       "                      5         125\n",
       "                               ... \n",
       "fd004    249          251         4\n",
       "                      252         3\n",
       "                      253         2\n",
       "                      254         1\n",
       "                      255         0\n",
       "Name: rul_clipped, Length: 160359, dtype: int64"
      ]
     },
     "execution_count": 25,
     "metadata": {},
     "output_type": "execute_result"
    }
   ],
   "source": [
    "train[\"rul_clipped\"]"
   ]
  },
  {
   "cell_type": "markdown",
   "id": "977f46f1-d7a8-4e43-a93e-30efe4cd1256",
   "metadata": {},
   "source": [
    "### Model using time series"
   ]
  },
  {
   "cell_type": "markdown",
   "id": "43c0d4f7-6835-444c-9dc0-bea0a5cf6653",
   "metadata": {},
   "source": [
    "### Examples of how to index into multi index pandas dataframe\n",
    "\n",
    "train.loc[\"fd001\"]#[\"unit_number\"]\n",
    "\n",
    "train.loc[(\"fd001\", 1), :]\n",
    "\n",
    "train.loc[(\"fd001\", slice(None)), :]"
   ]
  },
  {
   "cell_type": "code",
   "execution_count": 27,
   "id": "6032294d-e19a-4235-a2f5-49e3f7bc3583",
   "metadata": {},
   "outputs": [],
   "source": [
    "def plot_feature(dataset, unit, feature):\n",
    "    #plt.figure(figsize=(12, 6))\n",
    "    #plt.plot(\"rul\", \"sensor2\", data=train.loc[(\"fd001\", 1)])\n",
    "    #plt.plot(\"rul\", feature, data=train.loc[(dataset, unit)])\n",
    "    plt.plot(feature, data=train.loc[(dataset, unit)])\n",
    "    #plt.xlim(0, 250)\n",
    "    plt.xlabel(\"cycles\")\n",
    "    plt.ylabel(feature)"
   ]
  },
  {
   "cell_type": "code",
   "execution_count": 28,
   "id": "a203ea00-ee7b-4399-9488-a4b5556d8644",
   "metadata": {},
   "outputs": [
    {
     "data": {
      "image/png": "[encoded data removed]",
      "text/plain": [
       "<Figure size 432x288 with 1 Axes>"
      ]
     },
     "metadata": {
      "needs_background": "light"
     },
     "output_type": "display_data"
    }
   ],
   "source": [
    "plt.plot(\"sensor2\", data=train.loc[(\"fd001\", 1)]);"
   ]
  },
  {
   "cell_type": "code",
   "execution_count": 29,
   "id": "5ddae4b8-9bb4-4646-bac2-feb54c59c2f8",
   "metadata": {},
   "outputs": [
    {
     "data": {
      "image/png": "[encoded data removed]",
      "text/plain": [
       "<Figure size 432x288 with 1 Axes>"
      ]
     },
     "metadata": {
      "needs_background": "light"
     },
     "output_type": "display_data"
    }
   ],
   "source": [
    "plot_feature(\"fd001\", 1, \"sensor2\");"
   ]
  },
  {
   "cell_type": "markdown",
   "id": "db50dd05-7459-45bc-ae28-038d2e4c88bf",
   "metadata": {},
   "source": [
    "### Creating lag variables for the time series"
   ]
  },
  {
   "cell_type": "code",
   "execution_count": 30,
   "id": "5de202c3-7193-4d37-b9e8-095e459c054f",
   "metadata": {},
   "outputs": [],
   "source": [
    "drop_sensors = ['sensor1','sensor5','sensor6','sensor10','sensor16','sensor18','sensor19']\n",
    "drop_settings =  [\"operational_setting_1\", \"operational_setting_2\", \"operational_setting_3\"]\n",
    "drop_targets = [\"rul\"] # [\"rul\", rul_clipped\"]\n",
    "drop_labels = drop_sensors + drop_settings + drop_targets\n",
    "drop_test_labels = drop_sensors + drop_settings"
   ]
  },
  {
   "cell_type": "code",
   "execution_count": 59,
   "id": "4cbbf954-edea-424d-9f55-d0bdf66c569e",
   "metadata": {},
   "outputs": [],
   "source": [
    "def get_training_data(df, dataset = \"fd001\"):\n",
    "   \n",
    "    if dataset:\n",
    "        Xtrain = df.loc[(dataset)].drop(drop_labels, axis=1)\n",
    "    else:\n",
    "        Xtrain = df.drop(drop_labels, axis=1)\n",
    "        print(f\"No training set provided.  Using entire dataset\")\n",
    "    \n",
    "    remaining_sensors = list(Xtrain.columns.difference([\"rul\", \"rul_clipped\"]))\n",
    "    lag1 = [col + '_lag_1' for col in remaining_sensors]\n",
    "    Xtrain[lag1] = Xtrain[remaining_sensors].shift(1)\n",
    "    \n",
    "    Xtrain.dropna(inplace=True)\n",
    "    ytrain = Xtrain.pop('rul_clipped')\n",
    "    \n",
    "    return Xtrain, ytrain, remaining_sensors"
   ]
  },
  {
   "cell_type": "code",
   "execution_count": 60,
   "id": "d2027767-cae5-446f-848e-f58f63fac956",
   "metadata": {},
   "outputs": [],
   "source": [
    "Xtrain, ytrain, remaining_sensors = get_training_data(train, dataset = \"fd001\")"
   ]
  },
  {
   "cell_type": "markdown",
   "id": "e52b1e45-aa0b-48a5-85c7-f8e72b914be5",
   "metadata": {},
   "source": [
    "### Model training and fitting"
   ]
  },
  {
   "cell_type": "code",
   "execution_count": 67,
   "id": "3c7e82fe-86e9-4d44-be0a-f2973fe209b6",
   "metadata": {},
   "outputs": [
    {
     "data": {
      "text/plain": [
       "LinearRegression()"
      ]
     },
     "execution_count": 67,
     "metadata": {},
     "output_type": "execute_result"
    }
   ],
   "source": [
    "lm_fd001 = LinearRegression()\n",
    "lm_fd001.fit(Xtrain, ytrain)"
   ]
  },
  {
   "cell_type": "markdown",
   "id": "c224cbd3-4fa5-4dd2-96df-291e359ea5e8",
   "metadata": {},
   "source": [
    "### Model evaluation using RMSE"
   ]
  },
  {
   "cell_type": "code",
   "execution_count": 52,
   "id": "515eea15-6061-4baa-9e30-f7b785de9661",
   "metadata": {},
   "outputs": [],
   "source": [
    "def evaluate(y_true, y_hat, label='test'):\n",
    "    mse = mean_squared_error(y_true, y_hat, squared = False)\n",
    "    variance = r2_score(y_true, y_hat)\n",
    "    print(f'{label} set RMSE:{mse:.2f}, R2:{variance:.2f}')"
   ]
  },
  {
   "cell_type": "markdown",
   "id": "51584191-0e7e-4a71-8764-ad224b078f1c",
   "metadata": {},
   "source": [
    "## Setting up test set"
   ]
  },
  {
   "cell_type": "code",
   "execution_count": 97,
   "id": "4c375221-63b8-4954-b1be-192e7d5b03e3",
   "metadata": {},
   "outputs": [],
   "source": [
    "def get_test_data(df, dataset = \"fd001\"):\n",
    "    if dataset:\n",
    "        Xtest = df.loc[(dataset)].drop(drop_test_labels, axis=1)\n",
    "    else:\n",
    "        Xtest = df.drop(drop_test_labels, axis=1)\n",
    "        print(f\"No training set provided.  Using entire dataset\")\n",
    "        \n",
    "    lag1 = [col + '_lag_1' for col in remaining_sensors]\n",
    "    Xtest[lag1] = Xtest[remaining_sensors].shift(1)\n",
    "    Xtest.dropna(inplace=True)\n",
    "    Xtest_last_cycle = Xtest.groupby(level='unit_number').last()\n",
    "    \n",
    "    return Xtest_last_cycle"
   ]
  },
  {
   "cell_type": "markdown",
   "id": "2d10cd28-1784-402f-a939-8471452b35d6",
   "metadata": {},
   "source": [
    "Test data are for remaining useful life is only provided for the last time cycle."
   ]
  },
  {
   "cell_type": "code",
   "execution_count": 180,
   "id": "6aa6d348-5881-4443-9df5-eefa28a3ba51",
   "metadata": {},
   "outputs": [],
   "source": [
    "Xtest_fd001 = get_test_data(test, dataset = \"fd001\")"
   ]
  },
  {
   "cell_type": "code",
   "execution_count": 181,
   "id": "07af9937-8847-4306-a743-f2b29bdd8a22",
   "metadata": {},
   "outputs": [],
   "source": [
    "y_hat_test = lm_fd001.predict(Xtest_fd001)"
   ]
  },
  {
   "cell_type": "markdown",
   "id": "a33ebf3b-5a2b-4c87-b4d6-907341205ca7",
   "metadata": {},
   "source": [
    "### Result for fd001\n",
    "\n",
    "For fd001 we have a RMSE of 21.75 cycles with a datset mean of 75.5 cycles and median of 86 cycles"
   ]
  },
  {
   "cell_type": "code",
   "execution_count": 182,
   "id": "b1223b70-701e-468d-8d33-585697480252",
   "metadata": {},
   "outputs": [
    {
     "name": "stdout",
     "output_type": "stream",
     "text": [
      "test set RMSE:21.76, R2:0.73\n"
     ]
    }
   ],
   "source": [
    "evaluate(rul_fd001_raw, y_hat_test, label='test')"
   ]
  },
  {
   "cell_type": "code",
   "execution_count": 184,
   "id": "6f1a4059-5f55-45db-b48f-60dbbc0540ee",
   "metadata": {},
   "outputs": [
    {
     "data": {
      "text/plain": [
       "count    100.00000\n",
       "mean      75.52000\n",
       "std       41.76497\n",
       "min        7.00000\n",
       "25%       32.75000\n",
       "50%       86.00000\n",
       "75%      112.25000\n",
       "max      145.00000\n",
       "Name: rul_fd001, dtype: float64"
      ]
     },
     "execution_count": 184,
     "metadata": {},
     "output_type": "execute_result"
    },
    {
     "data": {
      "image/png": "[encoded data removed]",
      "text/plain": [
       "<Figure size 360x360 with 1 Axes>"
      ]
     },
     "metadata": {
      "needs_background": "light"
     },
     "output_type": "display_data"
    }
   ],
   "source": [
    "ax = sns.displot(rul_fd001_raw);\n",
    "ax.set(xlabel = \"RUL\");\n",
    "rul_fd001_raw.describe()"
   ]
  },
  {
   "cell_type": "code",
   "execution_count": 185,
   "id": "a06872f1-7ffc-4744-9cc4-5eb475d1b214",
   "metadata": {},
   "outputs": [
    {
     "data": {
      "image/png": "[encoded data removed]",
      "text/plain": [
       "<Figure size 432x288 with 1 Axes>"
      ]
     },
     "metadata": {
      "needs_background": "light"
     },
     "output_type": "display_data"
    }
   ],
   "source": [
    "plt.scatter(rul_fd001_raw, y_hat_test)\n",
    "plt.xlabel(\"Test RUL\")\n",
    "plt.ylabel(\"Predicted RUL\")\n",
    "plt.title(\"Predicted vs Testset RUL for dataset FD001\");"
   ]
  },
  {
   "cell_type": "markdown",
   "id": "f3ee0e3a-c085-4be4-a7b4-1b3aa2ba5b19",
   "metadata": {},
   "source": [
    "## Using time series to train and fit on the FD002 data set"
   ]
  },
  {
   "cell_type": "code",
   "execution_count": 186,
   "id": "13b56400-57a2-4de7-a071-1f62afcb0cf4",
   "metadata": {},
   "outputs": [],
   "source": [
    "Xtrain, ytrain, remaining_sensors = get_training_data(train, dataset = \"fd002\")"
   ]
  },
  {
   "cell_type": "code",
   "execution_count": 187,
   "id": "9ef4f930-4cc9-4a90-aab2-52541117531d",
   "metadata": {},
   "outputs": [
    {
     "data": {
      "text/plain": [
       "LinearRegression()"
      ]
     },
     "execution_count": 187,
     "metadata": {},
     "output_type": "execute_result"
    }
   ],
   "source": [
    "lm_fd002 = LinearRegression()\n",
    "lm_fd002.fit(Xtrain, ytrain)"
   ]
  },
  {
   "cell_type": "code",
   "execution_count": 188,
   "id": "39322e34-f029-4f40-9f61-1022f01da6a6",
   "metadata": {},
   "outputs": [],
   "source": [
    "Xtest_fd002 = get_test_data(test, dataset = \"fd002\")"
   ]
  },
  {
   "cell_type": "code",
   "execution_count": 189,
   "id": "848c27c8-e140-4539-8d54-0c013bcfc7db",
   "metadata": {},
   "outputs": [],
   "source": [
    "y_hat_test = lm_fd002.predict(Xtest_fd002)"
   ]
  },
  {
   "cell_type": "code",
   "execution_count": 190,
   "id": "b6f85d26-98eb-47d0-8462-e4e447ef7479",
   "metadata": {},
   "outputs": [
    {
     "name": "stdout",
     "output_type": "stream",
     "text": [
      "test set RMSE:32.00, R2:0.65\n"
     ]
    }
   ],
   "source": [
    "evaluate(rul_fd002_raw, y_hat_test, label='test')"
   ]
  },
  {
   "cell_type": "code",
   "execution_count": 191,
   "id": "7b35896b-755d-4585-a85a-2a0d314f3933",
   "metadata": {},
   "outputs": [
    {
     "data": {
      "text/plain": [
       "count    259.000000\n",
       "mean      81.185328\n",
       "std       53.882916\n",
       "min        6.000000\n",
       "25%       35.000000\n",
       "50%       80.000000\n",
       "75%      121.000000\n",
       "max      194.000000\n",
       "Name: rul_fd002, dtype: float64"
      ]
     },
     "execution_count": 191,
     "metadata": {},
     "output_type": "execute_result"
    },
    {
     "data": {
      "image/png": "[encoded data removed]",
      "text/plain": [
       "<Figure size 360x360 with 1 Axes>"
      ]
     },
     "metadata": {
      "needs_background": "light"
     },
     "output_type": "display_data"
    }
   ],
   "source": [
    "ax = sns.displot(rul_fd002_raw);\n",
    "ax.set(xlabel = \"RUL\");\n",
    "rul_fd002_raw.describe()"
   ]
  },
  {
   "cell_type": "code",
   "execution_count": 192,
   "id": "82884876-ba6e-4a56-a086-0b12b2adc3a3",
   "metadata": {},
   "outputs": [
    {
     "data": {
      "image/png": "[encoded data removed]",
      "text/plain": [
       "<Figure size 432x288 with 1 Axes>"
      ]
     },
     "metadata": {
      "needs_background": "light"
     },
     "output_type": "display_data"
    }
   ],
   "source": [
    "plt.scatter(rul_fd002_raw, y_hat_test)\n",
    "plt.xlabel(\"Test RUL\")\n",
    "plt.ylabel(\"Predicted RUL\")\n",
    "plt.title(\"Predicted vs Testset RUL for dataset FD002\");"
   ]
  },
  {
   "cell_type": "markdown",
   "id": "9dcf8a32-5027-4a9a-b8cd-4e1a80638e76",
   "metadata": {},
   "source": [
    "### Result for fd002\n",
    "\n",
    "For fd002 we have a RMSE of 32 cycles with a dataset mean of 81 cycles and median of 80 cycles"
   ]
  },
  {
   "cell_type": "markdown",
   "id": "270ecda2-2faf-44ee-9645-9dcdd4774d87",
   "metadata": {},
   "source": [
    "## Using time series to train and fit on the FD003 data set"
   ]
  },
  {
   "cell_type": "code",
   "execution_count": 193,
   "id": "82c82d0a-2351-46ae-85e4-b2491f1a9ed6",
   "metadata": {},
   "outputs": [],
   "source": [
    "Xtrain, ytrain, remaining_sensors = get_training_data(train, dataset = \"fd003\")"
   ]
  },
  {
   "cell_type": "code",
   "execution_count": 194,
   "id": "8bb12c52-9db5-4a12-8d00-a6248d82549b",
   "metadata": {},
   "outputs": [
    {
     "data": {
      "text/plain": [
       "LinearRegression()"
      ]
     },
     "execution_count": 194,
     "metadata": {},
     "output_type": "execute_result"
    }
   ],
   "source": [
    "lm_fd003 = LinearRegression()\n",
    "lm_fd003.fit(Xtrain, ytrain)"
   ]
  },
  {
   "cell_type": "code",
   "execution_count": 195,
   "id": "29e332f1-b9bd-4d50-8d91-4b1b9cdb282d",
   "metadata": {},
   "outputs": [],
   "source": [
    "Xtest_fd003 = get_test_data(test, dataset = \"fd003\")"
   ]
  },
  {
   "cell_type": "code",
   "execution_count": 196,
   "id": "9a75f6df-3e8c-4462-bc0c-f0aa0fd1d66b",
   "metadata": {},
   "outputs": [],
   "source": [
    "y_hat_test = lm_fd003.predict(Xtest_fd003)"
   ]
  },
  {
   "cell_type": "code",
   "execution_count": 197,
   "id": "e4df09cd-dbd2-4a1a-9e46-0013b6f574d1",
   "metadata": {},
   "outputs": [
    {
     "name": "stdout",
     "output_type": "stream",
     "text": [
      "test set RMSE:22.53, R2:0.70\n"
     ]
    }
   ],
   "source": [
    "evaluate(rul_fd003_raw, y_hat_test, label='test')"
   ]
  },
  {
   "cell_type": "code",
   "execution_count": 198,
   "id": "9319b95f-81f7-4f55-8f2c-d4c845b9ca13",
   "metadata": {},
   "outputs": [
    {
     "data": {
      "text/plain": [
       "count    100.000000\n",
       "mean      75.320000\n",
       "std       41.604166\n",
       "min        6.000000\n",
       "25%       43.250000\n",
       "50%       77.500000\n",
       "75%      115.000000\n",
       "max      145.000000\n",
       "Name: rul_fd003, dtype: float64"
      ]
     },
     "execution_count": 198,
     "metadata": {},
     "output_type": "execute_result"
    },
    {
     "data": {
      "image/png": "[encoded data removed]",
      "text/plain": [
       "<Figure size 360x360 with 1 Axes>"
      ]
     },
     "metadata": {
      "needs_background": "light"
     },
     "output_type": "display_data"
    }
   ],
   "source": [
    "ax = sns.displot(rul_fd003_raw);\n",
    "ax.set(xlabel = \"RUL\");\n",
    "rul_fd003_raw.describe()"
   ]
  },
  {
   "cell_type": "code",
   "execution_count": 199,
   "id": "3817279d-e89e-4d37-a173-3cab30b79a60",
   "metadata": {},
   "outputs": [
    {
     "data": {
      "image/png": "[encoded data removed]",
      "text/plain": [
       "<Figure size 432x288 with 1 Axes>"
      ]
     },
     "metadata": {
      "needs_background": "light"
     },
     "output_type": "display_data"
    }
   ],
   "source": [
    "plt.scatter(rul_fd003_raw, y_hat_test)\n",
    "plt.xlabel(\"Test RUL\")\n",
    "plt.ylabel(\"Predicted RUL\")\n",
    "plt.title(\"Predicted vs Testset RUL for dataset FD003\");"
   ]
  },
  {
   "cell_type": "markdown",
   "id": "f7229510-7902-4924-9203-8f844223e101",
   "metadata": {},
   "source": [
    "### Result for fd003\n",
    "\n",
    "For fd003 we have a RMSE of 22.5 cycles with a dataset mean of 75 cycles and median of 77.5 cycles"
   ]
  },
  {
   "cell_type": "markdown",
   "id": "7f7953cc-4477-48dc-a743-bdce17110f00",
   "metadata": {},
   "source": [
    "## Using time series to train and fit on the FD004 data set"
   ]
  },
  {
   "cell_type": "code",
   "execution_count": 200,
   "id": "d6e83b0a-ecf9-4d1d-8895-4e188b18c71a",
   "metadata": {},
   "outputs": [],
   "source": [
    "Xtrain, ytrain, remaining_sensors = get_training_data(train, dataset = \"fd004\")"
   ]
  },
  {
   "cell_type": "code",
   "execution_count": 201,
   "id": "9b26458d-0897-4853-9922-13bbdb2e69c4",
   "metadata": {},
   "outputs": [
    {
     "data": {
      "text/plain": [
       "LinearRegression()"
      ]
     },
     "execution_count": 201,
     "metadata": {},
     "output_type": "execute_result"
    }
   ],
   "source": [
    "lm_fd004 = LinearRegression()\n",
    "lm_fd004.fit(Xtrain, ytrain)"
   ]
  },
  {
   "cell_type": "code",
   "execution_count": 202,
   "id": "f3c1a4c0-2977-4263-92e0-fc5465a3ed93",
   "metadata": {},
   "outputs": [],
   "source": [
    "Xtest_fd004 = get_test_data(test, dataset = \"fd004\")"
   ]
  },
  {
   "cell_type": "code",
   "execution_count": 203,
   "id": "048a742a-4c57-4006-b6af-7dcae7e08f5e",
   "metadata": {},
   "outputs": [],
   "source": [
    "y_hat_test = lm_fd004.predict(Xtest_fd004)"
   ]
  },
  {
   "cell_type": "code",
   "execution_count": 204,
   "id": "5ef4ef92-e4ad-4904-9e38-e97b162b9fca",
   "metadata": {},
   "outputs": [
    {
     "name": "stdout",
     "output_type": "stream",
     "text": [
      "test set RMSE:39.27, R2:0.48\n"
     ]
    }
   ],
   "source": [
    "evaluate(rul_fd004_raw, y_hat_test, label='test')"
   ]
  },
  {
   "cell_type": "code",
   "execution_count": 205,
   "id": "9da49a9b-567c-49f3-861d-d51f59f78277",
   "metadata": {},
   "outputs": [
    {
     "data": {
      "text/plain": [
       "count    248.000000\n",
       "mean      86.552419\n",
       "std       54.634054\n",
       "min        6.000000\n",
       "25%       36.000000\n",
       "50%       88.000000\n",
       "75%      126.750000\n",
       "max      195.000000\n",
       "Name: rul_fd004, dtype: float64"
      ]
     },
     "execution_count": 205,
     "metadata": {},
     "output_type": "execute_result"
    },
    {
     "data": {
      "image/png": "[encoded data removed]",
      "text/plain": [
       "<Figure size 360x360 with 1 Axes>"
      ]
     },
     "metadata": {
      "needs_background": "light"
     },
     "output_type": "display_data"
    }
   ],
   "source": [
    "ax = sns.displot(rul_fd004_raw);\n",
    "ax.set(xlabel = \"RUL\");\n",
    "rul_fd004_raw.describe()"
   ]
  },
  {
   "cell_type": "code",
   "execution_count": 206,
   "id": "64f683ff-4165-40f4-ae6d-9e5544441af9",
   "metadata": {},
   "outputs": [
    {
     "data": {
      "image/png": "[encoded data removed]",
      "text/plain": [
       "<Figure size 432x288 with 1 Axes>"
      ]
     },
     "metadata": {
      "needs_background": "light"
     },
     "output_type": "display_data"
    }
   ],
   "source": [
    "plt.scatter(rul_fd004_raw, y_hat_test)\n",
    "plt.xlabel(\"Test RUL\")\n",
    "plt.ylabel(\"Predicted RUL\")\n",
    "plt.title(\"Predicted vs Testset RUL for dataset FD004\");"
   ]
  },
  {
   "cell_type": "markdown",
   "id": "3853e9c3-c284-414b-9011-e5093fbfd985",
   "metadata": {},
   "source": [
    "### Result for fd004\n",
    "\n",
    "For fd004 we have a RMSE of 39 cycles with a dataset mean of 86.5 cycles and median of 80 cycles"
   ]
  },
  {
   "cell_type": "markdown",
   "id": "7de4a4da-9f33-4987-a733-3cbfb2412779",
   "metadata": {},
   "source": [
    "## Using time series to train and fit on the full data set"
   ]
  },
  {
   "cell_type": "code",
   "execution_count": 207,
   "id": "3cd623b8-7714-4ba2-a549-cfe9584deb7f",
   "metadata": {},
   "outputs": [
    {
     "name": "stdout",
     "output_type": "stream",
     "text": [
      "No training set provided.  Using entire dataset\n"
     ]
    }
   ],
   "source": [
    "Xtrain, ytrain, remaining_sensors = get_training_data(train, dataset = None)"
   ]
  },
  {
   "cell_type": "code",
   "execution_count": 208,
   "id": "6383e2e6-4036-4158-9f67-f7f64660bb32",
   "metadata": {},
   "outputs": [
    {
     "data": {
      "text/plain": [
       "LinearRegression()"
      ]
     },
     "execution_count": 208,
     "metadata": {},
     "output_type": "execute_result"
    }
   ],
   "source": [
    "lm_full = LinearRegression()\n",
    "lm_full.fit(Xtrain, ytrain)"
   ]
  },
  {
   "cell_type": "code",
   "execution_count": 209,
   "id": "06f3c812-cca3-4974-991a-a9c381182820",
   "metadata": {},
   "outputs": [],
   "source": [
    "nwtest = test.reset_index(level=[\"dataset\", \"unit_number\", \"cycles\"], drop=False)"
   ]
  },
  {
   "cell_type": "code",
   "execution_count": 210,
   "id": "09b180b2-685f-44d6-9cc5-1e328e1fc88e",
   "metadata": {},
   "outputs": [],
   "source": [
    "nwtest[\"data_unit\"] = nwtest.dataset + nwtest.unit_number.astype(str)"
   ]
  },
  {
   "cell_type": "code",
   "execution_count": 211,
   "id": "4bfce864-22cb-4840-a99a-9c069873484c",
   "metadata": {},
   "outputs": [],
   "source": [
    "nwtest = nwtest.set_index([\"data_unit\", \"cycles\"]).drop([\"dataset\", \"unit_number\"], axis=1)"
   ]
  },
  {
   "cell_type": "code",
   "execution_count": 212,
   "id": "6bb237c9-29ce-4ce0-9f50-133b4a6dd1ec",
   "metadata": {},
   "outputs": [],
   "source": [
    "nwtest.index.rename({\"data_unit\": \"unit_number\"}, inplace=True)"
   ]
  },
  {
   "cell_type": "code",
   "execution_count": 213,
   "id": "a5a781f6-a00f-47c6-bc45-292746a4aa6f",
   "metadata": {},
   "outputs": [
    {
     "name": "stdout",
     "output_type": "stream",
     "text": [
      "No training set provided.  Using entire dataset\n"
     ]
    }
   ],
   "source": [
    "Xtest_full = get_test_data(nwtest, dataset = None)"
   ]
  },
  {
   "cell_type": "code",
   "execution_count": 214,
   "id": "5763bf89-4bca-4221-aedf-4b4ebc97bda8",
   "metadata": {},
   "outputs": [],
   "source": [
    "y_hat_test = lm_full.predict(Xtest_full)"
   ]
  },
  {
   "cell_type": "code",
   "execution_count": 215,
   "id": "da5195c6-b6fc-45a0-b193-eac3aea2a888",
   "metadata": {},
   "outputs": [
    {
     "name": "stdout",
     "output_type": "stream",
     "text": [
      "test set RMSE:59.86, R2:-0.37\n"
     ]
    }
   ],
   "source": [
    "evaluate(rul_raw, y_hat_test, label='test')"
   ]
  },
  {
   "cell_type": "code",
   "execution_count": 216,
   "id": "f20d5489-6da6-4334-b0c3-72b2ff3ae5d2",
   "metadata": {},
   "outputs": [
    {
     "data": {
      "text/plain": [
       "count    707.000000\n",
       "mean      81.437058\n",
       "std       51.108532\n",
       "min        6.000000\n",
       "25%       36.000000\n",
       "50%       83.000000\n",
       "75%      119.000000\n",
       "max      195.000000\n",
       "Name: all_test_data, dtype: float64"
      ]
     },
     "execution_count": 216,
     "metadata": {},
     "output_type": "execute_result"
    },
    {
     "data": {
      "image/png": "[encoded data removed]",
      "text/plain": [
       "<Figure size 360x360 with 1 Axes>"
      ]
     },
     "metadata": {
      "needs_background": "light"
     },
     "output_type": "display_data"
    }
   ],
   "source": [
    "ax = sns.displot(rul_fd002_raw);\n",
    "ax.set(xlabel = \"RUL\");\n",
    "rul_raw.describe()"
   ]
  },
  {
   "cell_type": "code",
   "execution_count": 218,
   "id": "921d9900-bc02-4789-bb36-70890ee08dd3",
   "metadata": {},
   "outputs": [
    {
     "data": {
      "image/png": "[encoded data removed]",
      "text/plain": [
       "<Figure size 432x288 with 1 Axes>"
      ]
     },
     "metadata": {
      "needs_background": "light"
     },
     "output_type": "display_data"
    }
   ],
   "source": [
    "plt.scatter(rul_raw, y_hat_test)\n",
    "plt.xlabel(\"Test RUL\")\n",
    "plt.ylabel(\"Predicted RUL\")\n",
    "plt.title(\"Predicted vs Testset RUL for FUll dataset\");"
   ]
  },
  {
   "cell_type": "code",
   "execution_count": null,
   "id": "5215fc54-4074-4150-ade8-f4418c33d307",
   "metadata": {},
   "outputs": [],
   "source": []
  }
 ],
 "metadata": {
  "kernelspec": {
   "display_name": "Python 3",
   "language": "python",
   "name": "python3"
  },
  "language_info": {
   "codemirror_mode": {
    "name": "ipython",
    "version": 3
   },
   "file_extension": ".py",
   "mimetype": "text/x-python",
   "name": "python",
   "nbconvert_exporter": "python",
   "pygments_lexer": "ipython3",
   "version": "3.7.10"
  }
 },
 "nbformat": 4,
 "nbformat_minor": 5
}
