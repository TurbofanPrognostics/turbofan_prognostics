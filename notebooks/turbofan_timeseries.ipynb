{
 "cells": [
  {
   "cell_type": "markdown",
   "id": "03079f03-43e4-4e7d-a107-49105a08c175",
   "metadata": {},
   "source": [
    "## Using time series for predictive mainteneance of turbofan engines"
   ]
  },
  {
   "cell_type": "code",
   "execution_count": 1,
   "id": "469a9db6-fdc0-400e-9cc1-29579810b836",
   "metadata": {},
   "outputs": [],
   "source": [
    "# Imports\n",
    "import numpy as np\n",
    "import pandas as pd\n",
    "import matplotlib.pyplot as plt\n",
    "\n",
    "from sklearn.linear_model import LinearRegression\n",
    "from sklearn.metrics import mean_squared_error, r2_score"
   ]
  },
  {
   "cell_type": "code",
   "execution_count": null,
   "id": "1ab15b4b-52a9-4b86-9e23-485ae66f2250",
   "metadata": {},
   "outputs": [],
   "source": []
  },
  {
   "cell_type": "code",
   "execution_count": 2,
   "id": "8d1ab783-ddb9-469d-adca-d292fc4c3998",
   "metadata": {},
   "outputs": [],
   "source": [
    "# Data import\n",
    "data_dir = \"../CMAPSSData/\""
   ]
  },
  {
   "cell_type": "code",
   "execution_count": 3,
   "id": "1870ecec-cedc-43b8-b8b6-35875055279d",
   "metadata": {},
   "outputs": [
    {
     "name": "stdout",
     "output_type": "stream",
     "text": [
      "ls: cannot access '../CMAPSSData/': No such file or directory\n"
     ]
    }
   ],
   "source": [
    "!ls ../CMAPSSData/"
   ]
  },
  {
   "cell_type": "code",
   "execution_count": 4,
   "id": "c532f943-6ce9-440a-9494-fe9189e81477",
   "metadata": {},
   "outputs": [],
   "source": [
    "sensor_colnames = [f\"sensor{i}\" for i in range(1,22, 1)]"
   ]
  },
  {
   "cell_type": "code",
   "execution_count": 5,
   "id": "999603c9-2aa8-466a-9664-f0a97dbf53e9",
   "metadata": {},
   "outputs": [],
   "source": [
    "engine_colnames = [\"unit_number\", \"cycles\", \"operational_setting_1\", \"operational_setting_2\", \"operational_setting_3\"] + sensor_colnames"
   ]
  },
  {
   "cell_type": "code",
   "execution_count": 6,
   "id": "f3e04117-ea72-4965-9c21-f315bd845ba1",
   "metadata": {},
   "outputs": [
    {
     "ename": "FileNotFoundError",
     "evalue": "[Errno 2] No such file or directory: '../CMAPSSData/train_FD001.txt'",
     "output_type": "error",
     "traceback": [
      "\u001b[0;31m---------------------------------------------------------------------------\u001b[0m",
      "\u001b[0;31mFileNotFoundError\u001b[0m                         Traceback (most recent call last)",
      "\u001b[0;32m<ipython-input-6-d425e8122334>\u001b[0m in \u001b[0;36m<module>\u001b[0;34m\u001b[0m\n\u001b[0;32m----> 1\u001b[0;31m \u001b[0mtrain_fd001_raw\u001b[0m \u001b[0;34m=\u001b[0m \u001b[0mpd\u001b[0m\u001b[0;34m.\u001b[0m\u001b[0mread_csv\u001b[0m\u001b[0;34m(\u001b[0m\u001b[0;34mf\"{data_dir}train_FD001.txt\"\u001b[0m\u001b[0;34m,\u001b[0m \u001b[0mdelim_whitespace\u001b[0m\u001b[0;34m=\u001b[0m\u001b[0;32mTrue\u001b[0m\u001b[0;34m,\u001b[0m \u001b[0mnames\u001b[0m\u001b[0;34m=\u001b[0m\u001b[0mengine_colnames\u001b[0m\u001b[0;34m)\u001b[0m\u001b[0;34m\u001b[0m\u001b[0;34m\u001b[0m\u001b[0m\n\u001b[0m\u001b[1;32m      2\u001b[0m \u001b[0mtrain_fd002_raw\u001b[0m \u001b[0;34m=\u001b[0m \u001b[0mpd\u001b[0m\u001b[0;34m.\u001b[0m\u001b[0mread_csv\u001b[0m\u001b[0;34m(\u001b[0m\u001b[0;34mf\"{data_dir}train_FD002.txt\"\u001b[0m\u001b[0;34m,\u001b[0m \u001b[0mdelim_whitespace\u001b[0m\u001b[0;34m=\u001b[0m\u001b[0;32mTrue\u001b[0m\u001b[0;34m,\u001b[0m \u001b[0mnames\u001b[0m\u001b[0;34m=\u001b[0m\u001b[0mengine_colnames\u001b[0m\u001b[0;34m)\u001b[0m\u001b[0;34m\u001b[0m\u001b[0;34m\u001b[0m\u001b[0m\n\u001b[1;32m      3\u001b[0m \u001b[0mtrain_fd003_raw\u001b[0m \u001b[0;34m=\u001b[0m \u001b[0mpd\u001b[0m\u001b[0;34m.\u001b[0m\u001b[0mread_csv\u001b[0m\u001b[0;34m(\u001b[0m\u001b[0;34mf\"{data_dir}train_FD003.txt\"\u001b[0m\u001b[0;34m,\u001b[0m \u001b[0mdelim_whitespace\u001b[0m\u001b[0;34m=\u001b[0m\u001b[0;32mTrue\u001b[0m\u001b[0;34m,\u001b[0m \u001b[0mnames\u001b[0m\u001b[0;34m=\u001b[0m\u001b[0mengine_colnames\u001b[0m\u001b[0;34m)\u001b[0m\u001b[0;34m\u001b[0m\u001b[0;34m\u001b[0m\u001b[0m\n\u001b[1;32m      4\u001b[0m \u001b[0mtrain_fd004_raw\u001b[0m \u001b[0;34m=\u001b[0m \u001b[0mpd\u001b[0m\u001b[0;34m.\u001b[0m\u001b[0mread_csv\u001b[0m\u001b[0;34m(\u001b[0m\u001b[0;34mf\"{data_dir}train_FD004.txt\"\u001b[0m\u001b[0;34m,\u001b[0m \u001b[0mdelim_whitespace\u001b[0m\u001b[0;34m=\u001b[0m\u001b[0;32mTrue\u001b[0m\u001b[0;34m,\u001b[0m \u001b[0mnames\u001b[0m\u001b[0;34m=\u001b[0m\u001b[0mengine_colnames\u001b[0m\u001b[0;34m)\u001b[0m\u001b[0;34m\u001b[0m\u001b[0;34m\u001b[0m\u001b[0m\n",
      "\u001b[0;32m~/opt/miniconda3/envs/py3/lib/python3.8/site-packages/pandas/io/parsers.py\u001b[0m in \u001b[0;36mread_csv\u001b[0;34m(filepath_or_buffer, sep, delimiter, header, names, index_col, usecols, squeeze, prefix, mangle_dupe_cols, dtype, engine, converters, true_values, false_values, skipinitialspace, skiprows, skipfooter, nrows, na_values, keep_default_na, na_filter, verbose, skip_blank_lines, parse_dates, infer_datetime_format, keep_date_col, date_parser, dayfirst, cache_dates, iterator, chunksize, compression, thousands, decimal, lineterminator, quotechar, quoting, doublequote, escapechar, comment, encoding, dialect, error_bad_lines, warn_bad_lines, delim_whitespace, low_memory, memory_map, float_precision, storage_options)\u001b[0m\n\u001b[1;32m    608\u001b[0m     \u001b[0mkwds\u001b[0m\u001b[0;34m.\u001b[0m\u001b[0mupdate\u001b[0m\u001b[0;34m(\u001b[0m\u001b[0mkwds_defaults\u001b[0m\u001b[0;34m)\u001b[0m\u001b[0;34m\u001b[0m\u001b[0;34m\u001b[0m\u001b[0m\n\u001b[1;32m    609\u001b[0m \u001b[0;34m\u001b[0m\u001b[0m\n\u001b[0;32m--> 610\u001b[0;31m     \u001b[0;32mreturn\u001b[0m \u001b[0m_read\u001b[0m\u001b[0;34m(\u001b[0m\u001b[0mfilepath_or_buffer\u001b[0m\u001b[0;34m,\u001b[0m \u001b[0mkwds\u001b[0m\u001b[0;34m)\u001b[0m\u001b[0;34m\u001b[0m\u001b[0;34m\u001b[0m\u001b[0m\n\u001b[0m\u001b[1;32m    611\u001b[0m \u001b[0;34m\u001b[0m\u001b[0m\n\u001b[1;32m    612\u001b[0m \u001b[0;34m\u001b[0m\u001b[0m\n",
      "\u001b[0;32m~/opt/miniconda3/envs/py3/lib/python3.8/site-packages/pandas/io/parsers.py\u001b[0m in \u001b[0;36m_read\u001b[0;34m(filepath_or_buffer, kwds)\u001b[0m\n\u001b[1;32m    460\u001b[0m \u001b[0;34m\u001b[0m\u001b[0m\n\u001b[1;32m    461\u001b[0m     \u001b[0;31m# Create the parser.\u001b[0m\u001b[0;34m\u001b[0m\u001b[0;34m\u001b[0m\u001b[0;34m\u001b[0m\u001b[0m\n\u001b[0;32m--> 462\u001b[0;31m     \u001b[0mparser\u001b[0m \u001b[0;34m=\u001b[0m \u001b[0mTextFileReader\u001b[0m\u001b[0;34m(\u001b[0m\u001b[0mfilepath_or_buffer\u001b[0m\u001b[0;34m,\u001b[0m \u001b[0;34m**\u001b[0m\u001b[0mkwds\u001b[0m\u001b[0;34m)\u001b[0m\u001b[0;34m\u001b[0m\u001b[0;34m\u001b[0m\u001b[0m\n\u001b[0m\u001b[1;32m    463\u001b[0m \u001b[0;34m\u001b[0m\u001b[0m\n\u001b[1;32m    464\u001b[0m     \u001b[0;32mif\u001b[0m \u001b[0mchunksize\u001b[0m \u001b[0;32mor\u001b[0m \u001b[0miterator\u001b[0m\u001b[0;34m:\u001b[0m\u001b[0;34m\u001b[0m\u001b[0;34m\u001b[0m\u001b[0m\n",
      "\u001b[0;32m~/opt/miniconda3/envs/py3/lib/python3.8/site-packages/pandas/io/parsers.py\u001b[0m in \u001b[0;36m__init__\u001b[0;34m(self, f, engine, **kwds)\u001b[0m\n\u001b[1;32m    817\u001b[0m             \u001b[0mself\u001b[0m\u001b[0;34m.\u001b[0m\u001b[0moptions\u001b[0m\u001b[0;34m[\u001b[0m\u001b[0;34m\"has_index_names\"\u001b[0m\u001b[0;34m]\u001b[0m \u001b[0;34m=\u001b[0m \u001b[0mkwds\u001b[0m\u001b[0;34m[\u001b[0m\u001b[0;34m\"has_index_names\"\u001b[0m\u001b[0;34m]\u001b[0m\u001b[0;34m\u001b[0m\u001b[0;34m\u001b[0m\u001b[0m\n\u001b[1;32m    818\u001b[0m \u001b[0;34m\u001b[0m\u001b[0m\n\u001b[0;32m--> 819\u001b[0;31m         \u001b[0mself\u001b[0m\u001b[0;34m.\u001b[0m\u001b[0m_engine\u001b[0m \u001b[0;34m=\u001b[0m \u001b[0mself\u001b[0m\u001b[0;34m.\u001b[0m\u001b[0m_make_engine\u001b[0m\u001b[0;34m(\u001b[0m\u001b[0mself\u001b[0m\u001b[0;34m.\u001b[0m\u001b[0mengine\u001b[0m\u001b[0;34m)\u001b[0m\u001b[0;34m\u001b[0m\u001b[0;34m\u001b[0m\u001b[0m\n\u001b[0m\u001b[1;32m    820\u001b[0m \u001b[0;34m\u001b[0m\u001b[0m\n\u001b[1;32m    821\u001b[0m     \u001b[0;32mdef\u001b[0m \u001b[0mclose\u001b[0m\u001b[0;34m(\u001b[0m\u001b[0mself\u001b[0m\u001b[0;34m)\u001b[0m\u001b[0;34m:\u001b[0m\u001b[0;34m\u001b[0m\u001b[0;34m\u001b[0m\u001b[0m\n",
      "\u001b[0;32m~/opt/miniconda3/envs/py3/lib/python3.8/site-packages/pandas/io/parsers.py\u001b[0m in \u001b[0;36m_make_engine\u001b[0;34m(self, engine)\u001b[0m\n\u001b[1;32m   1048\u001b[0m             )\n\u001b[1;32m   1049\u001b[0m         \u001b[0;31m# error: Too many arguments for \"ParserBase\"\u001b[0m\u001b[0;34m\u001b[0m\u001b[0;34m\u001b[0m\u001b[0;34m\u001b[0m\u001b[0m\n\u001b[0;32m-> 1050\u001b[0;31m         \u001b[0;32mreturn\u001b[0m \u001b[0mmapping\u001b[0m\u001b[0;34m[\u001b[0m\u001b[0mengine\u001b[0m\u001b[0;34m]\u001b[0m\u001b[0;34m(\u001b[0m\u001b[0mself\u001b[0m\u001b[0;34m.\u001b[0m\u001b[0mf\u001b[0m\u001b[0;34m,\u001b[0m \u001b[0;34m**\u001b[0m\u001b[0mself\u001b[0m\u001b[0;34m.\u001b[0m\u001b[0moptions\u001b[0m\u001b[0;34m)\u001b[0m  \u001b[0;31m# type: ignore[call-arg]\u001b[0m\u001b[0;34m\u001b[0m\u001b[0;34m\u001b[0m\u001b[0m\n\u001b[0m\u001b[1;32m   1051\u001b[0m \u001b[0;34m\u001b[0m\u001b[0m\n\u001b[1;32m   1052\u001b[0m     \u001b[0;32mdef\u001b[0m \u001b[0m_failover_to_python\u001b[0m\u001b[0;34m(\u001b[0m\u001b[0mself\u001b[0m\u001b[0;34m)\u001b[0m\u001b[0;34m:\u001b[0m\u001b[0;34m\u001b[0m\u001b[0;34m\u001b[0m\u001b[0m\n",
      "\u001b[0;32m~/opt/miniconda3/envs/py3/lib/python3.8/site-packages/pandas/io/parsers.py\u001b[0m in \u001b[0;36m__init__\u001b[0;34m(self, src, **kwds)\u001b[0m\n\u001b[1;32m   1865\u001b[0m \u001b[0;34m\u001b[0m\u001b[0m\n\u001b[1;32m   1866\u001b[0m         \u001b[0;31m# open handles\u001b[0m\u001b[0;34m\u001b[0m\u001b[0;34m\u001b[0m\u001b[0;34m\u001b[0m\u001b[0m\n\u001b[0;32m-> 1867\u001b[0;31m         \u001b[0mself\u001b[0m\u001b[0;34m.\u001b[0m\u001b[0m_open_handles\u001b[0m\u001b[0;34m(\u001b[0m\u001b[0msrc\u001b[0m\u001b[0;34m,\u001b[0m \u001b[0mkwds\u001b[0m\u001b[0;34m)\u001b[0m\u001b[0;34m\u001b[0m\u001b[0;34m\u001b[0m\u001b[0m\n\u001b[0m\u001b[1;32m   1868\u001b[0m         \u001b[0;32massert\u001b[0m \u001b[0mself\u001b[0m\u001b[0;34m.\u001b[0m\u001b[0mhandles\u001b[0m \u001b[0;32mis\u001b[0m \u001b[0;32mnot\u001b[0m \u001b[0;32mNone\u001b[0m\u001b[0;34m\u001b[0m\u001b[0;34m\u001b[0m\u001b[0m\n\u001b[1;32m   1869\u001b[0m         \u001b[0;32mfor\u001b[0m \u001b[0mkey\u001b[0m \u001b[0;32min\u001b[0m \u001b[0;34m(\u001b[0m\u001b[0;34m\"storage_options\"\u001b[0m\u001b[0;34m,\u001b[0m \u001b[0;34m\"encoding\"\u001b[0m\u001b[0;34m,\u001b[0m \u001b[0;34m\"memory_map\"\u001b[0m\u001b[0;34m,\u001b[0m \u001b[0;34m\"compression\"\u001b[0m\u001b[0;34m)\u001b[0m\u001b[0;34m:\u001b[0m\u001b[0;34m\u001b[0m\u001b[0;34m\u001b[0m\u001b[0m\n",
      "\u001b[0;32m~/opt/miniconda3/envs/py3/lib/python3.8/site-packages/pandas/io/parsers.py\u001b[0m in \u001b[0;36m_open_handles\u001b[0;34m(self, src, kwds)\u001b[0m\n\u001b[1;32m   1360\u001b[0m         \u001b[0mLet\u001b[0m \u001b[0mthe\u001b[0m \u001b[0mreaders\u001b[0m \u001b[0mopen\u001b[0m \u001b[0mIOHanldes\u001b[0m \u001b[0mafter\u001b[0m \u001b[0mthey\u001b[0m \u001b[0mare\u001b[0m \u001b[0mdone\u001b[0m \u001b[0;32mwith\u001b[0m \u001b[0mtheir\u001b[0m \u001b[0mpotential\u001b[0m \u001b[0mraises\u001b[0m\u001b[0;34m.\u001b[0m\u001b[0;34m\u001b[0m\u001b[0;34m\u001b[0m\u001b[0m\n\u001b[1;32m   1361\u001b[0m         \"\"\"\n\u001b[0;32m-> 1362\u001b[0;31m         self.handles = get_handle(\n\u001b[0m\u001b[1;32m   1363\u001b[0m             \u001b[0msrc\u001b[0m\u001b[0;34m,\u001b[0m\u001b[0;34m\u001b[0m\u001b[0;34m\u001b[0m\u001b[0m\n\u001b[1;32m   1364\u001b[0m             \u001b[0;34m\"r\"\u001b[0m\u001b[0;34m,\u001b[0m\u001b[0;34m\u001b[0m\u001b[0;34m\u001b[0m\u001b[0m\n",
      "\u001b[0;32m~/opt/miniconda3/envs/py3/lib/python3.8/site-packages/pandas/io/common.py\u001b[0m in \u001b[0;36mget_handle\u001b[0;34m(path_or_buf, mode, encoding, compression, memory_map, is_text, errors, storage_options)\u001b[0m\n\u001b[1;32m    640\u001b[0m                 \u001b[0merrors\u001b[0m \u001b[0;34m=\u001b[0m \u001b[0;34m\"replace\"\u001b[0m\u001b[0;34m\u001b[0m\u001b[0;34m\u001b[0m\u001b[0m\n\u001b[1;32m    641\u001b[0m             \u001b[0;31m# Encoding\u001b[0m\u001b[0;34m\u001b[0m\u001b[0;34m\u001b[0m\u001b[0;34m\u001b[0m\u001b[0m\n\u001b[0;32m--> 642\u001b[0;31m             handle = open(\n\u001b[0m\u001b[1;32m    643\u001b[0m                 \u001b[0mhandle\u001b[0m\u001b[0;34m,\u001b[0m\u001b[0;34m\u001b[0m\u001b[0;34m\u001b[0m\u001b[0m\n\u001b[1;32m    644\u001b[0m                 \u001b[0mioargs\u001b[0m\u001b[0;34m.\u001b[0m\u001b[0mmode\u001b[0m\u001b[0;34m,\u001b[0m\u001b[0;34m\u001b[0m\u001b[0;34m\u001b[0m\u001b[0m\n",
      "\u001b[0;31mFileNotFoundError\u001b[0m: [Errno 2] No such file or directory: '../CMAPSSData/train_FD001.txt'"
     ]
    }
   ],
   "source": [
    "train_fd001_raw = pd.read_csv(f\"{data_dir}train_FD001.txt\", delim_whitespace=True, names=engine_colnames)\n",
    "train_fd002_raw = pd.read_csv(f\"{data_dir}train_FD002.txt\", delim_whitespace=True, names=engine_colnames)\n",
    "train_fd003_raw = pd.read_csv(f\"{data_dir}train_FD003.txt\", delim_whitespace=True, names=engine_colnames)\n",
    "train_fd004_raw = pd.read_csv(f\"{data_dir}train_FD004.txt\", delim_whitespace=True, names=engine_colnames)"
   ]
  },
  {
   "cell_type": "code",
   "execution_count": null,
   "id": "e0222ad4-7bb0-40ef-87f0-8cdc20f436df",
   "metadata": {},
   "outputs": [],
   "source": [
    "test_fd001_raw = pd.read_csv(f\"{data_dir}test_FD001.txt\", delim_whitespace=True, names=engine_colnames)\n",
    "test_fd002_raw = pd.read_csv(f\"{data_dir}test_FD002.txt\", delim_whitespace=True, names=engine_colnames)\n",
    "test_fd003_raw = pd.read_csv(f\"{data_dir}test_FD003.txt\", delim_whitespace=True, names=engine_colnames)\n",
    "test_fd004_raw = pd.read_csv(f\"{data_dir}test_FD004.txt\", delim_whitespace=True, names=engine_colnames)"
   ]
  },
  {
   "cell_type": "code",
   "execution_count": null,
   "id": "d0c0f8e9-8da3-4b53-ae2a-e46f9d049121",
   "metadata": {},
   "outputs": [],
   "source": [
    "rul_fd001_raw = pd.read_csv(f\"{data_dir}RUL_FD001.txt\", names=[\"rul_fd001\"], squeeze=True)\n",
    "rul_fd002_raw = pd.read_csv(f\"{data_dir}RUL_FD002.txt\", names=[\"rul_fd002\"], squeeze=True)\n",
    "rul_fd003_raw = pd.read_csv(f\"{data_dir}RUL_FD003.txt\", names=[\"rul_fd003\"], squeeze=True)\n",
    "rul_fd004_raw = pd.read_csv(f\"{data_dir}RUL_FD004.txt\", names=[\"rul_fd004\"], squeeze=True)"
   ]
  },
  {
   "cell_type": "code",
   "execution_count": null,
   "id": "4be832d9-a1b8-48ee-915f-b20161a32377",
   "metadata": {},
   "outputs": [],
   "source": [
    "#rul_df = pd.DataFrame({\"rul_fd001\": rul_fd001_raw, \"rul_fd002\": rul_fd002_raw, \"rul_fd003\": rul_fd003_raw, \"rul_fd004\": rul_fd004_raw}, dtype=np.int)"
   ]
  },
  {
   "cell_type": "code",
   "execution_count": null,
   "id": "7dec4bec-7fbb-444a-a2e8-39f49fe86b44",
   "metadata": {},
   "outputs": [],
   "source": [
    "#rul_fd001_raw"
   ]
  },
  {
   "cell_type": "markdown",
   "id": "82a6ef97-0bc8-480f-9169-70bdc9de519f",
   "metadata": {},
   "source": [
    "### Assumptions\n",
    "\n",
    "- data in rul_ are useful life of a particular unit\n",
    "- unit number and trejectories are synonyms\n",
    "- data in rul_ are ordered by thier unit number\n",
    "- rul_df represent test set remaining useful life"
   ]
  },
  {
   "cell_type": "code",
   "execution_count": null,
   "id": "9304ba54-5c2a-4032-ba0a-ba8d0408c5a5",
   "metadata": {},
   "outputs": [],
   "source": [
    "rul_df[\"unit_number\"] = list(range(1, rul_df.shape[0] + 1))"
   ]
  },
  {
   "cell_type": "code",
   "execution_count": null,
   "id": "dad03d94-8465-42a1-baba-c4e5d8d7727a",
   "metadata": {},
   "outputs": [],
   "source": [
    "cols = rul_df.columns.tolist()\n",
    "cols = cols[-1:] + cols[:-1]\n",
    "rul_df = rul_df[cols]"
   ]
  },
  {
   "cell_type": "code",
   "execution_count": null,
   "id": "bf260902-abb6-45dc-bcff-f9e4fbee2561",
   "metadata": {},
   "outputs": [],
   "source": [
    "rul_df = rul_df.set_index(\"unit_number\")"
   ]
  },
  {
   "cell_type": "code",
   "execution_count": null,
   "id": "b1d86064-42d7-48f6-aaee-c2d0d40d5773",
   "metadata": {},
   "outputs": [],
   "source": [
    "rul_df.head(2)"
   ]
  },
  {
   "cell_type": "markdown",
   "id": "6d63c083-d5a8-49f2-a41b-2c21ebfd3223",
   "metadata": {},
   "source": [
    "### Model data transformation"
   ]
  },
  {
   "cell_type": "code",
   "execution_count": null,
   "id": "5d33a346-2dae-447b-878a-ca136497fbb4",
   "metadata": {},
   "outputs": [],
   "source": [
    "train_fd001 = train_fd001_raw.copy()\n",
    "train_fd002 = train_fd002_raw.copy()\n",
    "train_fd003 = train_fd003_raw.copy()\n",
    "train_fd004 = train_fd004_raw.copy()"
   ]
  },
  {
   "cell_type": "code",
   "execution_count": null,
   "id": "10d18788-2f4b-4b66-8c83-e69ea7fd80f4",
   "metadata": {},
   "outputs": [],
   "source": [
    "test_fd001 = test_fd001_raw.copy()\n",
    "test_fd002 = test_fd002_raw.copy()\n",
    "test_fd003 = test_fd003_raw.copy()\n",
    "test_fd004 = test_fd004_raw.copy()"
   ]
  },
  {
   "cell_type": "code",
   "execution_count": null,
   "id": "b6dc4e7d-13eb-45b5-b71f-520ef726eb52",
   "metadata": {},
   "outputs": [],
   "source": [
    "# assuming linear reduction on remaining useful life\n",
    "train_fd001[\"rul\"] = train_fd001.groupby([\"unit_number\"], group_keys=False).apply(lambda g: max(g.cycles) - g.cycles)\n",
    "train_fd002[\"rul\"] = train_fd002.groupby([\"unit_number\"], group_keys=False).apply(lambda g: max(g.cycles) - g.cycles)\n",
    "train_fd003[\"rul\"] = train_fd003.groupby([\"unit_number\"], group_keys=False).apply(lambda g: max(g.cycles) - g.cycles)\n",
    "train_fd004[\"rul\"] = train_fd004.groupby([\"unit_number\"], group_keys=False).apply(lambda g: max(g.cycles) - g.cycles)"
   ]
  },
  {
   "cell_type": "code",
   "execution_count": null,
   "id": "12917e4b-4c60-4c73-846c-64b0687dbffd",
   "metadata": {},
   "outputs": [],
   "source": [
    "train_fd001[\"train_data\"] = \"fd001\"\n",
    "train_fd002[\"train_data\"] = \"fd002\"\n",
    "train_fd003[\"train_data\"] = \"fd003\"\n",
    "train_fd004[\"train_data\"] = \"fd004\""
   ]
  },
  {
   "cell_type": "code",
   "execution_count": null,
   "id": "189ccc19-fc57-47b0-a50b-3ebd57dde4b8",
   "metadata": {},
   "outputs": [],
   "source": [
    "test_fd001[\"test_data\"] = \"fd001\"\n",
    "test_fd002[\"test_data\"] = \"fd002\"\n",
    "test_fd003[\"test_data\"] = \"fd003\"\n",
    "test_fd004[\"test_data\"] = \"fd004\""
   ]
  },
  {
   "cell_type": "code",
   "execution_count": null,
   "id": "2a82d3e6-3290-490b-9eac-fc5f9c9fc529",
   "metadata": {},
   "outputs": [],
   "source": [
    "train = pd.concat([train_fd001, train_fd002, train_fd003, train_fd004], axis=0)"
   ]
  },
  {
   "cell_type": "code",
   "execution_count": null,
   "id": "b92274aa-184b-463a-8990-0bad28f2f813",
   "metadata": {},
   "outputs": [],
   "source": [
    "train = train.set_index([ \"train_data\", \"unit_number\", \"cycles\"])"
   ]
  },
  {
   "cell_type": "code",
   "execution_count": null,
   "id": "1062ded3-86aa-4fd4-ab54-3003cf4d02b4",
   "metadata": {},
   "outputs": [],
   "source": [
    "train.head(2)"
   ]
  },
  {
   "cell_type": "code",
   "execution_count": null,
   "id": "7f03992e-5853-4ddb-836e-665a2ff2867c",
   "metadata": {},
   "outputs": [],
   "source": [
    "train.tail(2)"
   ]
  },
  {
   "cell_type": "code",
   "execution_count": null,
   "id": "767407c7-42e2-4657-9f8f-6ccb25bc3b40",
   "metadata": {},
   "outputs": [],
   "source": [
    "train.index"
   ]
  },
  {
   "cell_type": "code",
   "execution_count": null,
   "id": "ec105f72-ab6f-4015-b0e1-c927d61c2e71",
   "metadata": {},
   "outputs": [],
   "source": [
    "test = pd.concat([test_fd001, test_fd002, test_fd003, test_fd004], axis=0)"
   ]
  },
  {
   "cell_type": "code",
   "execution_count": null,
   "id": "e2e61252-a6d3-4d2d-a595-d7cf1ea925f5",
   "metadata": {},
   "outputs": [],
   "source": [
    "test = test.set_index([ \"test_data\", \"unit_number\", \"cycles\"])"
   ]
  },
  {
   "cell_type": "code",
   "execution_count": null,
   "id": "4dbecd32-f14b-46c5-89ef-85effe10da72",
   "metadata": {},
   "outputs": [],
   "source": [
    "test.head(2)"
   ]
  },
  {
   "cell_type": "code",
   "execution_count": null,
   "id": "6fe9d46f-b3e8-4bea-a84d-79c418aba9f7",
   "metadata": {},
   "outputs": [],
   "source": [
    "test.tail(2)"
   ]
  },
  {
   "cell_type": "code",
   "execution_count": null,
   "id": "b9a2b362-5079-400b-8d3e-f002d705137c",
   "metadata": {},
   "outputs": [],
   "source": []
  },
  {
   "cell_type": "code",
   "execution_count": null,
   "id": "53749c48-6c0e-4c93-9ae4-1c7280202c2e",
   "metadata": {},
   "outputs": [],
   "source": [
    "# How to index into the training set\n",
    "# Select the first unit of fd001 dataset # Can unstack with tarain.unstack()\n",
    "train.loc[(\"fd001\", 1)]"
   ]
  },
  {
   "cell_type": "code",
   "execution_count": null,
   "id": "9cc1765d-0d57-4db8-a0fe-85f27b211e08",
   "metadata": {},
   "outputs": [],
   "source": [
    "train.head(2)"
   ]
  },
  {
   "cell_type": "markdown",
   "id": "e770b4e0-ada1-498d-a167-334de4ae8482",
   "metadata": {},
   "source": [
    "### Using clipped RUL\n",
    "Assuming cliiped RUL over one that decreases linearly overtime may better reflect real operating condtions. See \n",
    "\n",
    "https://towardsdatascience.com/the-importance-of-problem-framing-for-supervised-predictive-maintenance-solutions-cc8646826093"
   ]
  },
  {
   "cell_type": "code",
   "execution_count": null,
   "id": "abcdba8b-4de3-40f9-b276-b01749be3115",
   "metadata": {},
   "outputs": [],
   "source": [
    "train.loc[(\"fd001\", 1)].rul.clip(upper=125)"
   ]
  },
  {
   "cell_type": "code",
   "execution_count": null,
   "id": "b7b0b629-8418-4b9f-ad00-d9b76e6e7259",
   "metadata": {},
   "outputs": [],
   "source": [
    "train[\"rul_clipped\"] = train.rul.clip(upper=125)"
   ]
  },
  {
   "cell_type": "code",
   "execution_count": null,
   "id": "6686bc65-1aa9-4d88-bf24-74d59ebde367",
   "metadata": {},
   "outputs": [],
   "source": [
    "train[\"rul_clipped\"]"
   ]
  },
  {
   "cell_type": "markdown",
   "id": "977f46f1-d7a8-4e43-a93e-30efe4cd1256",
   "metadata": {},
   "source": [
    "### Model using time series"
   ]
  },
  {
   "cell_type": "code",
   "execution_count": null,
   "id": "2af3b7b6-4c1e-491c-875a-c3ae351d38ea",
   "metadata": {},
   "outputs": [],
   "source": [
    "train.index"
   ]
  },
  {
   "cell_type": "code",
   "execution_count": null,
   "id": "846b6cac-bf19-4281-a488-7f7a21306988",
   "metadata": {},
   "outputs": [],
   "source": [
    "train.loc[\"fd001\"]#[\"unit_number\"]"
   ]
  },
  {
   "cell_type": "code",
   "execution_count": null,
   "id": "360145a9-4850-4dca-9bdd-6ade69c78b72",
   "metadata": {},
   "outputs": [],
   "source": [
    "train.loc[(\"fd001\", 1), :]"
   ]
  },
  {
   "cell_type": "code",
   "execution_count": null,
   "id": "bd2809b8-3c9e-4a63-8546-a60c93a1d4bf",
   "metadata": {},
   "outputs": [],
   "source": [
    "train.loc[(\"fd001\", slice(None)), :]"
   ]
  },
  {
   "cell_type": "code",
   "execution_count": null,
   "id": "b9f09eef-389c-47c2-841e-89b9c22ad5f1",
   "metadata": {},
   "outputs": [],
   "source": [
    "###train.loc[(\"fd001\", slice(None)), :] ###train.loc[(\"fd001\"), :]  ### train.loc[(\"fd001\")]"
   ]
  },
  {
   "cell_type": "code",
   "execution_count": null,
   "id": "1e3398a0-eaaa-4ebd-9938-5785502d8050",
   "metadata": {},
   "outputs": [],
   "source": [
    "train.loc[(\"fd001\")].index.get_level_values(\"unit_number\").unique() #train.index.get_level_values(\"unit_number\").unique()"
   ]
  },
  {
   "cell_type": "code",
   "execution_count": null,
   "id": "81d1d724-527d-487b-93d8-b6668ebd3445",
   "metadata": {},
   "outputs": [],
   "source": [
    "train.head(2)"
   ]
  },
  {
   "cell_type": "code",
   "execution_count": null,
   "id": "3b084ff8-0fca-4b7f-926e-eb1cfd6fa264",
   "metadata": {},
   "outputs": [],
   "source": []
  },
  {
   "cell_type": "code",
   "execution_count": null,
   "id": "6032294d-e19a-4235-a2f5-49e3f7bc3583",
   "metadata": {},
   "outputs": [],
   "source": [
    "def plot_feature(train_data, unit, feature):\n",
    "    #plt.figure(figsize=(12, 6))\n",
    "    #plt.plot(\"rul\", \"sensor2\", data=train.loc[(\"fd001\", 1)])\n",
    "    #plt.plot(\"rul\", feature, data=train.loc[(train_data, unit)])\n",
    "    plt.plot(feature, data=train.loc[(train_data, unit)])\n",
    "    #plt.xlim(0, 250)\n",
    "    plt.xlabel(\"cycles\")\n",
    "    plt.ylabel(feature)"
   ]
  },
  {
   "cell_type": "code",
   "execution_count": null,
   "id": "a203ea00-ee7b-4399-9488-a4b5556d8644",
   "metadata": {},
   "outputs": [],
   "source": [
    "#plt.plot(\"sensor2\", data=train.loc[(\"fd001\", 1)])"
   ]
  },
  {
   "cell_type": "code",
   "execution_count": null,
   "id": "394f3f86-c7bc-45fd-bba0-9bc378b89c3f",
   "metadata": {},
   "outputs": [],
   "source": [
    "#def plot_sensor(sensor):\n",
    "#    plt.figure(figsize = (12, 6))\n",
    "#    \n",
    "#    for unit in train.loc[(\"fd001\", )]\n",
    "#    "
   ]
  },
  {
   "cell_type": "code",
   "execution_count": null,
   "id": "b6d149e8-c3cc-47c9-b2ff-8a7ea23b0b0d",
   "metadata": {},
   "outputs": [],
   "source": [
    "#for unit in train.loc[(\"fd001\")].index.get_level_values(\"unit_number\").unique():\n",
    "#    print(unit)"
   ]
  },
  {
   "cell_type": "code",
   "execution_count": null,
   "id": "5ddae4b8-9bb4-4646-bac2-feb54c59c2f8",
   "metadata": {},
   "outputs": [],
   "source": [
    "plot_feature(\"fd001\", 1, \"sensor2\")"
   ]
  },
  {
   "cell_type": "code",
   "execution_count": null,
   "id": "354163c7-9fb2-42a7-86fc-836fea71c808",
   "metadata": {},
   "outputs": [],
   "source": [
    "print(train.loc[(\"fd001\")].index.get_level_values(\"unit_number\").unique())"
   ]
  },
  {
   "cell_type": "code",
   "execution_count": null,
   "id": "e4dcbd76-67de-4ecf-93c9-c930795b4a55",
   "metadata": {},
   "outputs": [],
   "source": []
  },
  {
   "cell_type": "code",
   "execution_count": null,
   "id": "c751813e-e735-46bf-8827-51af91278189",
   "metadata": {},
   "outputs": [],
   "source": [
    "drop_sensors = ['sensor1','sensor5','sensor6','sensor10','sensor16','sensor18','sensor19']\n",
    "drop_settings =  [\"operational_setting_1\", \"operational_setting_2\", \"operational_setting_3\"]\n",
    "drop_targets = [\"rul\"] # [\"rul\", rul_clipped\"]\n",
    "drop_labels = drop_sensors + drop_settings + drop_targets\n",
    "drop_test_labels = drop_sensors + drop_settings\n",
    "print(drop_labels)"
   ]
  },
  {
   "cell_type": "code",
   "execution_count": null,
   "id": "f5a45404-a6d1-4e6b-bb15-35098b6a0513",
   "metadata": {},
   "outputs": [],
   "source": [
    "Xtrain = train.loc[(\"fd001\")].drop(drop_labels, axis=1)"
   ]
  },
  {
   "cell_type": "code",
   "execution_count": null,
   "id": "1295f46c-dbbd-4cfd-b30d-49434fc54b46",
   "metadata": {},
   "outputs": [],
   "source": [
    "Xtrain.head(2)"
   ]
  },
  {
   "cell_type": "code",
   "execution_count": null,
   "id": "1495eea5-bb9c-4da4-a2d7-f4225d89db50",
   "metadata": {},
   "outputs": [],
   "source": [
    "remaining_sensors = list(Xtrain.columns.difference([\"rul\", \"rul_clipped\"]))\n",
    "print(remaining_sensors)"
   ]
  },
  {
   "cell_type": "code",
   "execution_count": null,
   "id": "8aaf1963-aa97-4206-ae0b-c94506ecb49f",
   "metadata": {},
   "outputs": [],
   "source": [
    "lag1 = [col + '_lag_1' for col in remaining_sensors]\n",
    "print(lag1)"
   ]
  },
  {
   "cell_type": "code",
   "execution_count": null,
   "id": "a5f28138-ea34-45a5-8368-9c79c210d756",
   "metadata": {},
   "outputs": [],
   "source": [
    "Xtrain[lag1] = Xtrain[remaining_sensors].shift(1)"
   ]
  },
  {
   "cell_type": "code",
   "execution_count": null,
   "id": "f467f201-77ce-4756-ada2-8fe19feb1615",
   "metadata": {},
   "outputs": [],
   "source": [
    "Xtrain.head(4)"
   ]
  },
  {
   "cell_type": "code",
   "execution_count": null,
   "id": "2ed3fa17-ae8d-485a-ab9e-9460134a8204",
   "metadata": {},
   "outputs": [],
   "source": [
    "Xtrain.dropna(inplace=True)\n",
    "ytrain = Xtrain.pop('rul_clipped')"
   ]
  },
  {
   "cell_type": "code",
   "execution_count": null,
   "id": "57ed9ea6-c380-46fc-8da6-d7f9552cc66d",
   "metadata": {},
   "outputs": [],
   "source": [
    "Xtrain.info()"
   ]
  },
  {
   "cell_type": "code",
   "execution_count": null,
   "id": "4c75c97c-5271-47f3-928b-e465c9b54e44",
   "metadata": {},
   "outputs": [],
   "source": [
    "ytrain"
   ]
  },
  {
   "cell_type": "code",
   "execution_count": null,
   "id": "3c7e82fe-86e9-4d44-be0a-f2973fe209b6",
   "metadata": {},
   "outputs": [],
   "source": [
    "lm = LinearRegression()"
   ]
  },
  {
   "cell_type": "code",
   "execution_count": null,
   "id": "86c9e411-bab1-4c98-b964-c906b9a61c20",
   "metadata": {},
   "outputs": [],
   "source": [
    "lm.fit(Xtrain, ytrain)"
   ]
  },
  {
   "cell_type": "code",
   "execution_count": null,
   "id": "233df310-527d-4082-b7f2-92e3eedabb95",
   "metadata": {},
   "outputs": [],
   "source": [
    "lm"
   ]
  },
  {
   "cell_type": "code",
   "execution_count": null,
   "id": "a0dfd96e-794f-4b03-be3b-2bed6d41f4fc",
   "metadata": {},
   "outputs": [],
   "source": []
  },
  {
   "cell_type": "code",
   "execution_count": null,
   "id": "bcae3d35-792e-47f3-863e-28f0bd408568",
   "metadata": {},
   "outputs": [],
   "source": [
    "test"
   ]
  },
  {
   "cell_type": "code",
   "execution_count": null,
   "id": "ec571a37-89e0-4911-b335-7493318cfde2",
   "metadata": {},
   "outputs": [],
   "source": [
    "rul_fd001_raw"
   ]
  },
  {
   "cell_type": "code",
   "execution_count": null,
   "id": "515eea15-6061-4baa-9e30-f7b785de9661",
   "metadata": {},
   "outputs": [],
   "source": [
    "def evaluate(y_true, y_hat, label='test'):\n",
    "    mse = mean_squared_error(y_true, y_hat)\n",
    "    rmse = np.sqrt(mse)\n",
    "    variance = r2_score(y_true, y_hat)\n",
    "    print('{} set RMSE:{}, R2:{}'.format(label, rmse, variance))"
   ]
  },
  {
   "cell_type": "code",
   "execution_count": null,
   "id": "40f91a4e-d28f-40e9-aa74-1a99f09b3b52",
   "metadata": {},
   "outputs": [],
   "source": [
    "Xtest = test.loc[(\"fd001\")].drop(drop_test_labels, axis=1)"
   ]
  },
  {
   "cell_type": "code",
   "execution_count": null,
   "id": "7a511757-c8d9-405d-afee-4e611fd8f9d7",
   "metadata": {},
   "outputs": [],
   "source": [
    "Xtest[lag1] = Xtest[remaining_sensors].shift(1)"
   ]
  },
  {
   "cell_type": "code",
   "execution_count": null,
   "id": "812a0885-408a-4c17-9dae-16527db292cd",
   "metadata": {},
   "outputs": [],
   "source": [
    "Xtest.dropna(inplace=True)"
   ]
  },
  {
   "cell_type": "code",
   "execution_count": null,
   "id": "e67862cc-f542-42bc-8495-9faeaf93a0f5",
   "metadata": {},
   "outputs": [],
   "source": [
    "Xtest"
   ]
  },
  {
   "cell_type": "code",
   "execution_count": null,
   "id": "e2e363ac-65b4-4c81-85ab-bfd3511bd89f",
   "metadata": {},
   "outputs": [],
   "source": [
    "#Xtrain"
   ]
  },
  {
   "cell_type": "code",
   "execution_count": null,
   "id": "07af9937-8847-4306-a743-f2b29bdd8a22",
   "metadata": {},
   "outputs": [],
   "source": [
    "y_hat_test = lm.predict(Xtest)"
   ]
  },
  {
   "cell_type": "code",
   "execution_count": null,
   "id": "bef4b1a0-a694-4276-8609-7da20adadb8b",
   "metadata": {},
   "outputs": [],
   "source": [
    "print(y_hat_test)"
   ]
  },
  {
   "cell_type": "code",
   "execution_count": null,
   "id": "f92fab08-0148-4ff9-8df8-5f367cb97b25",
   "metadata": {},
   "outputs": [],
   "source": [
    "len(y_hat_test)"
   ]
  },
  {
   "cell_type": "code",
   "execution_count": null,
   "id": "4402ec67-c0ff-49fa-a103-6935e1eb0f67",
   "metadata": {},
   "outputs": [],
   "source": []
  }
 ],
 "metadata": {
  "kernelspec": {
   "display_name": "Python 3",
   "language": "python",
   "name": "python3"
  },
  "language_info": {
   "codemirror_mode": {
    "name": "ipython",
    "version": 3
   },
   "file_extension": ".py",
   "mimetype": "text/x-python",
   "name": "python",
   "nbconvert_exporter": "python",
   "pygments_lexer": "ipython3",
   "version": "3.8.10"
  }
 },
 "nbformat": 4,
 "nbformat_minor": 5
}
