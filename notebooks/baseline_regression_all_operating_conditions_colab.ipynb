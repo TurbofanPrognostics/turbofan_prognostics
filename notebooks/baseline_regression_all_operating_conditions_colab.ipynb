{
  "nbformat": 4,
  "nbformat_minor": 0,
  "metadata": {
    "colab": {
      "name": "baseline_regression_all_operating_conditions.ipynb",
      "provenance": [],
      "collapsed_sections": []
    },
    "kernelspec": {
      "name": "python3",
      "display_name": "Python 3"
    },
    "language_info": {
      "name": "python"
    }
  },
  "cells": [
    {
      "cell_type": "code",
      "metadata": {
        "id": "JkmmV1xYdb6b"
      },
      "source": [
        "import pandas as pd\n",
        "import numpy as np\n",
        "from sklearn.preprocessing import OneHotEncoder, MinMaxScaler\n",
        "from sklearn.linear_model import LinearRegression\n",
        "from sklearn.compose import make_column_transformer\n",
        "from sklearn.pipeline import make_pipeline\n",
        "from sklearn.metrics import mean_squared_error\n",
        "from typing import Tuple, List"
      ],
      "execution_count": 1,
      "outputs": []
    },
    {
      "cell_type": "code",
      "metadata": {
        "colab": {
          "base_uri": "https://localhost:8080/"
        },
        "id": "iwx-FP4S1Vux",
        "outputId": "b32f46ac-ebc5-4934-c04b-e259fadc3713"
      },
      "source": [
        "# mount google drive\n",
        "from google.colab import drive\n",
        "drive.mount('/content/drive')"
      ],
      "execution_count": 2,
      "outputs": [
        {
          "output_type": "stream",
          "text": [
            "Drive already mounted at /content/drive; to attempt to forcibly remount, call drive.mount(\"/content/drive\", force_remount=True).\n"
          ],
          "name": "stdout"
        }
      ]
    },
    {
      "cell_type": "code",
      "metadata": {
        "id": "lKcIKUnf1XNV"
      },
      "source": [
        "def extract_data_set_name(file_path: str) -> str:\n",
        "    \"\"\"\n",
        "    Extracts the specific data set from a file path\n",
        "    \"\"\"\n",
        "    return (file_path\n",
        "                .split('/')[-1]\n",
        "                .split('_')[-1]\n",
        "                .split('.')[0])\n",
        "\n",
        "\n",
        "def calc_rul(df: pd.DataFrame) -> pd.DataFrame:\n",
        "    \"\"\"\n",
        "    Calculates the remaining useful life (RUL) for each engine \n",
        "    \"\"\"\n",
        "    df = df.sort_values(['time', 'unit_number', 'data_set'], ascending=[False, True, True])\n",
        "    df['RUL'] = df.groupby(['data_set', 'unit_number']).cumcount()\n",
        "    return df\n",
        "\n",
        "\n",
        "def gen_col_names(df: pd.DataFrame) -> pd.DataFrame:\n",
        "    \"\"\"\n",
        "    Generates the columns for training data set\n",
        "    \"\"\"\n",
        "    cols = (['unit_number', 'time'] \n",
        "            + [f'op_setting_{i+1}' for i in range(3)]\n",
        "            + [f'sensor_{i+1}' for i in range(df.shape[1] - 5)])\n",
        "    df.columns = cols\n",
        "    return df\n",
        "\n",
        "\n",
        "def drop_empty_cols(df: pd.DataFrame) -> pd.DataFrame:\n",
        "    \"\"\"\n",
        "    Drops empty columns from dataframe\n",
        "    \"\"\"\n",
        "    na_by_col = df.isna().sum()\n",
        "    row_cnt = df.shape[0]\n",
        "    cols_to_keep = [True if na_cnt != row_cnt else False for na_cnt in na_by_col]\n",
        "    return df.iloc[:, cols_to_keep]\n",
        "\n",
        "\n",
        "def load_ts_data(file_paths: List[str]) -> pd.DataFrame:\n",
        "    \"\"\"\n",
        "    Loads time series data\n",
        "    Args:\n",
        "        - file_paths: paths to the files to load\n",
        "    Returns:\n",
        "        - pandas dataframe containing data with expected column names & dropped empty columns\n",
        "    \"\"\"\n",
        "    frames = []\n",
        "    for file_path in file_paths:\n",
        "        data_set = extract_data_set_name(file_path)\n",
        "        df = pd.read_csv(file_path, sep=' ', header=None)\n",
        "        df = (df.pipe(drop_empty_cols)\n",
        "                .pipe(gen_col_names))\n",
        "        df['data_set'] = data_set\n",
        "        frames.append(df)\n",
        "    return pd.concat(frames)\n",
        "\n",
        "\n",
        "def load_rul_data(file_paths: List[str]) -> pd.DataFrame:\n",
        "    \"\"\"\n",
        "    Loads RUL files (remaining useful life) for test data\n",
        "    Args:\n",
        "        - file_paths: paths to RUL files to load\n",
        "    Returns:\n",
        "        - np.ndarray with expected RULs of test data\n",
        "    \"\"\"\n",
        "    frames = []\n",
        "    for file_path in file_paths:\n",
        "        data_set = extract_data_set_name(file_path)\n",
        "        df = pd.read_csv(file_path, header=None)\n",
        "        df.columns = ['RUL']\n",
        "        df['data_set'] = data_set\n",
        "        frames.append(df)\n",
        "    return pd.concat(frames)\n",
        "\n",
        "\n",
        "def preprocess(df: pd.DataFrame) -> np.ndarray:\n",
        "    \"\"\"\n",
        "    Cleaning input data before training or inference;\n",
        "    dropping columns that do not have much predictive power; \n",
        "    see analysis described below:\n",
        "    https://towardsdatascience.com/predictive-maintenance-of-turbofan-engines-ec54a083127\n",
        "    \"\"\"\n",
        "    SENSOR_COLS_TO_DROP = [f'sensor_{i}' for i in (1, 5, 6, 10, 16, 18, 19)]\n",
        "    SETTING_COLS_TO_DROP = [f'op_setting_{i}' for i in range(1, 3+1)]\n",
        "    COLS_TO_DROP = SENSOR_COLS_TO_DROP + SETTING_COLS_TO_DROP + ['unit_number', 'time', 'data_set']\n",
        "    return df.drop(columns=COLS_TO_DROP)"
      ],
      "execution_count": 3,
      "outputs": []
    },
    {
      "cell_type": "code",
      "metadata": {
        "colab": {
          "base_uri": "https://localhost:8080/",
          "height": 204
        },
        "id": "EJrWXAbn9-t2",
        "outputId": "7434b607-4f91-4e4a-81cb-43528d0abce6"
      },
      "source": [
        "# load training files\n",
        "DRIVE_DATA_DIR = '/content/drive/MyDrive/fourth_brain/projects/data/CMAPSSData_small'\n",
        "TRAIN_TS_FILES = [f'train_FD00{i}.txt' for i in range(1, 4+1)]\n",
        "TEST_TS_FILES = [f'test_FD00{i}.txt' for i in range(1, 4+1)]\n",
        "TEST_RUL_FILES = [f'RUL_FD00{i}.txt' for i in range(1, 4+1)]\n",
        "train_df = load_ts_data([f'{DRIVE_DATA_DIR}/{TRAIN_TS_FILE}' for TRAIN_TS_FILE in TRAIN_TS_FILES])\n",
        "test_df = load_ts_data([f'{DRIVE_DATA_DIR}/{TEST_TS_FILE}' for TEST_TS_FILE in TEST_TS_FILES])\n",
        "y_test = load_rul_data([f'{DRIVE_DATA_DIR}/{TEST_RUL_FILE}' for TEST_RUL_FILE in TEST_RUL_FILES])\n",
        "train_df = (train_df\n",
        "                .pipe(calc_rul)\n",
        "                .pipe(preprocess))\n",
        "train_df.head()"
      ],
      "execution_count": 4,
      "outputs": [
        {
          "output_type": "execute_result",
          "data": {
            "text/html": [
              "<div>\n",
              "<style scoped>\n",
              "    .dataframe tbody tr th:only-of-type {\n",
              "        vertical-align: middle;\n",
              "    }\n",
              "\n",
              "    .dataframe tbody tr th {\n",
              "        vertical-align: top;\n",
              "    }\n",
              "\n",
              "    .dataframe thead th {\n",
              "        text-align: right;\n",
              "    }\n",
              "</style>\n",
              "<table border=\"1\" class=\"dataframe\">\n",
              "  <thead>\n",
              "    <tr style=\"text-align: right;\">\n",
              "      <th></th>\n",
              "      <th>sensor_2</th>\n",
              "      <th>sensor_3</th>\n",
              "      <th>sensor_4</th>\n",
              "      <th>sensor_7</th>\n",
              "      <th>sensor_8</th>\n",
              "      <th>sensor_9</th>\n",
              "      <th>sensor_11</th>\n",
              "      <th>sensor_12</th>\n",
              "      <th>sensor_13</th>\n",
              "      <th>sensor_14</th>\n",
              "      <th>sensor_15</th>\n",
              "      <th>sensor_17</th>\n",
              "      <th>sensor_20</th>\n",
              "      <th>sensor_21</th>\n",
              "      <th>RUL</th>\n",
              "    </tr>\n",
              "  </thead>\n",
              "  <tbody>\n",
              "    <tr>\n",
              "      <th>29223</th>\n",
              "      <td>549.99</td>\n",
              "      <td>1361.11</td>\n",
              "      <td>1146.56</td>\n",
              "      <td>142.52</td>\n",
              "      <td>2212.48</td>\n",
              "      <td>8378.69</td>\n",
              "      <td>42.56</td>\n",
              "      <td>133.47</td>\n",
              "      <td>2388.57</td>\n",
              "      <td>8140.53</td>\n",
              "      <td>9.0833</td>\n",
              "      <td>334</td>\n",
              "      <td>10.86</td>\n",
              "      <td>6.4898</td>\n",
              "      <td>0</td>\n",
              "    </tr>\n",
              "    <tr>\n",
              "      <th>29222</th>\n",
              "      <td>537.32</td>\n",
              "      <td>1268.93</td>\n",
              "      <td>1052.87</td>\n",
              "      <td>179.94</td>\n",
              "      <td>1915.86</td>\n",
              "      <td>8043.94</td>\n",
              "      <td>36.94</td>\n",
              "      <td>168.65</td>\n",
              "      <td>2028.76</td>\n",
              "      <td>7906.75</td>\n",
              "      <td>10.6410</td>\n",
              "      <td>307</td>\n",
              "      <td>14.54</td>\n",
              "      <td>8.6194</td>\n",
              "      <td>1</td>\n",
              "    </tr>\n",
              "    <tr>\n",
              "      <th>29221</th>\n",
              "      <td>605.97</td>\n",
              "      <td>1508.05</td>\n",
              "      <td>1316.18</td>\n",
              "      <td>404.79</td>\n",
              "      <td>2319.55</td>\n",
              "      <td>8842.34</td>\n",
              "      <td>45.88</td>\n",
              "      <td>381.68</td>\n",
              "      <td>2388.86</td>\n",
              "      <td>8184.69</td>\n",
              "      <td>8.4239</td>\n",
              "      <td>375</td>\n",
              "      <td>29.11</td>\n",
              "      <td>17.5285</td>\n",
              "      <td>2</td>\n",
              "    </tr>\n",
              "    <tr>\n",
              "      <th>29220</th>\n",
              "      <td>605.60</td>\n",
              "      <td>1515.56</td>\n",
              "      <td>1329.75</td>\n",
              "      <td>405.08</td>\n",
              "      <td>2319.57</td>\n",
              "      <td>8837.55</td>\n",
              "      <td>46.08</td>\n",
              "      <td>381.37</td>\n",
              "      <td>2388.80</td>\n",
              "      <td>8187.40</td>\n",
              "      <td>8.4663</td>\n",
              "      <td>372</td>\n",
              "      <td>29.25</td>\n",
              "      <td>17.5117</td>\n",
              "      <td>3</td>\n",
              "    </tr>\n",
              "    <tr>\n",
              "      <th>29219</th>\n",
              "      <td>556.09</td>\n",
              "      <td>1377.60</td>\n",
              "      <td>1143.91</td>\n",
              "      <td>199.35</td>\n",
              "      <td>2223.80</td>\n",
              "      <td>8405.69</td>\n",
              "      <td>42.68</td>\n",
              "      <td>188.57</td>\n",
              "      <td>2388.87</td>\n",
              "      <td>8118.05</td>\n",
              "      <td>9.0881</td>\n",
              "      <td>338</td>\n",
              "      <td>15.15</td>\n",
              "      <td>9.0975</td>\n",
              "      <td>4</td>\n",
              "    </tr>\n",
              "  </tbody>\n",
              "</table>\n",
              "</div>"
            ],
            "text/plain": [
              "       sensor_2  sensor_3  sensor_4  ...  sensor_20  sensor_21  RUL\n",
              "29223    549.99   1361.11   1146.56  ...      10.86     6.4898    0\n",
              "29222    537.32   1268.93   1052.87  ...      14.54     8.6194    1\n",
              "29221    605.97   1508.05   1316.18  ...      29.11    17.5285    2\n",
              "29220    605.60   1515.56   1329.75  ...      29.25    17.5117    3\n",
              "29219    556.09   1377.60   1143.91  ...      15.15     9.0975    4\n",
              "\n",
              "[5 rows x 15 columns]"
            ]
          },
          "metadata": {
            "tags": []
          },
          "execution_count": 4
        }
      ]
    },
    {
      "cell_type": "code",
      "metadata": {
        "colab": {
          "base_uri": "https://localhost:8080/",
          "height": 297
        },
        "id": "SVwsCa6romOP",
        "outputId": "0df1c487-062c-4129-ed10-fc5aa958015a"
      },
      "source": [
        "train_df.describe()"
      ],
      "execution_count": 5,
      "outputs": [
        {
          "output_type": "execute_result",
          "data": {
            "text/html": [
              "<div>\n",
              "<style scoped>\n",
              "    .dataframe tbody tr th:only-of-type {\n",
              "        vertical-align: middle;\n",
              "    }\n",
              "\n",
              "    .dataframe tbody tr th {\n",
              "        vertical-align: top;\n",
              "    }\n",
              "\n",
              "    .dataframe thead th {\n",
              "        text-align: right;\n",
              "    }\n",
              "</style>\n",
              "<table border=\"1\" class=\"dataframe\">\n",
              "  <thead>\n",
              "    <tr style=\"text-align: right;\">\n",
              "      <th></th>\n",
              "      <th>sensor_2</th>\n",
              "      <th>sensor_3</th>\n",
              "      <th>sensor_4</th>\n",
              "      <th>sensor_7</th>\n",
              "      <th>sensor_8</th>\n",
              "      <th>sensor_9</th>\n",
              "      <th>sensor_11</th>\n",
              "      <th>sensor_12</th>\n",
              "      <th>sensor_13</th>\n",
              "      <th>sensor_14</th>\n",
              "      <th>sensor_15</th>\n",
              "      <th>sensor_17</th>\n",
              "      <th>sensor_20</th>\n",
              "      <th>sensor_21</th>\n",
              "      <th>RUL</th>\n",
              "    </tr>\n",
              "  </thead>\n",
              "  <tbody>\n",
              "    <tr>\n",
              "      <th>count</th>\n",
              "      <td>160359.000000</td>\n",
              "      <td>160359.000000</td>\n",
              "      <td>160359.000000</td>\n",
              "      <td>160359.000000</td>\n",
              "      <td>160359.000000</td>\n",
              "      <td>160359.000000</td>\n",
              "      <td>160359.000000</td>\n",
              "      <td>160359.000000</td>\n",
              "      <td>160359.000000</td>\n",
              "      <td>160359.000000</td>\n",
              "      <td>160359.000000</td>\n",
              "      <td>160359.000000</td>\n",
              "      <td>160359.000000</td>\n",
              "      <td>160359.000000</td>\n",
              "      <td>160359.000000</td>\n",
              "    </tr>\n",
              "    <tr>\n",
              "      <th>mean</th>\n",
              "      <td>597.361022</td>\n",
              "      <td>1467.035653</td>\n",
              "      <td>1260.956434</td>\n",
              "      <td>359.729968</td>\n",
              "      <td>2273.829707</td>\n",
              "      <td>8677.553696</td>\n",
              "      <td>44.212049</td>\n",
              "      <td>338.789821</td>\n",
              "      <td>2349.645243</td>\n",
              "      <td>8088.950972</td>\n",
              "      <td>9.054747</td>\n",
              "      <td>360.698801</td>\n",
              "      <td>25.942709</td>\n",
              "      <td>15.565700</td>\n",
              "      <td>122.331338</td>\n",
              "    </tr>\n",
              "    <tr>\n",
              "      <th>std</th>\n",
              "      <td>42.478516</td>\n",
              "      <td>118.175261</td>\n",
              "      <td>136.300073</td>\n",
              "      <td>174.133835</td>\n",
              "      <td>142.426613</td>\n",
              "      <td>374.657454</td>\n",
              "      <td>3.426342</td>\n",
              "      <td>164.193480</td>\n",
              "      <td>111.167242</td>\n",
              "      <td>80.623257</td>\n",
              "      <td>0.751581</td>\n",
              "      <td>31.021430</td>\n",
              "      <td>11.691422</td>\n",
              "      <td>7.015067</td>\n",
              "      <td>83.538146</td>\n",
              "    </tr>\n",
              "    <tr>\n",
              "      <th>min</th>\n",
              "      <td>535.480000</td>\n",
              "      <td>1242.670000</td>\n",
              "      <td>1023.770000</td>\n",
              "      <td>136.170000</td>\n",
              "      <td>1914.720000</td>\n",
              "      <td>7984.510000</td>\n",
              "      <td>36.040000</td>\n",
              "      <td>128.310000</td>\n",
              "      <td>2027.570000</td>\n",
              "      <td>7845.780000</td>\n",
              "      <td>8.156300</td>\n",
              "      <td>302.000000</td>\n",
              "      <td>10.160000</td>\n",
              "      <td>6.010500</td>\n",
              "      <td>0.000000</td>\n",
              "    </tr>\n",
              "    <tr>\n",
              "      <th>25%</th>\n",
              "      <td>549.960000</td>\n",
              "      <td>1357.360000</td>\n",
              "      <td>1126.830000</td>\n",
              "      <td>175.710000</td>\n",
              "      <td>2212.120000</td>\n",
              "      <td>8334.770000</td>\n",
              "      <td>42.010000</td>\n",
              "      <td>164.790000</td>\n",
              "      <td>2387.970000</td>\n",
              "      <td>8070.530000</td>\n",
              "      <td>8.439250</td>\n",
              "      <td>332.000000</td>\n",
              "      <td>14.330000</td>\n",
              "      <td>8.601300</td>\n",
              "      <td>56.000000</td>\n",
              "    </tr>\n",
              "    <tr>\n",
              "      <th>50%</th>\n",
              "      <td>605.930000</td>\n",
              "      <td>1492.810000</td>\n",
              "      <td>1271.740000</td>\n",
              "      <td>341.690000</td>\n",
              "      <td>2319.370000</td>\n",
              "      <td>8764.200000</td>\n",
              "      <td>44.930000</td>\n",
              "      <td>321.690000</td>\n",
              "      <td>2388.070000</td>\n",
              "      <td>8118.590000</td>\n",
              "      <td>9.030100</td>\n",
              "      <td>367.000000</td>\n",
              "      <td>24.920000</td>\n",
              "      <td>14.953500</td>\n",
              "      <td>113.000000</td>\n",
              "    </tr>\n",
              "    <tr>\n",
              "      <th>75%</th>\n",
              "      <td>642.340000</td>\n",
              "      <td>1586.590000</td>\n",
              "      <td>1402.200000</td>\n",
              "      <td>553.290000</td>\n",
              "      <td>2388.050000</td>\n",
              "      <td>9055.850000</td>\n",
              "      <td>47.340000</td>\n",
              "      <td>521.340000</td>\n",
              "      <td>2388.160000</td>\n",
              "      <td>8139.410000</td>\n",
              "      <td>9.344200</td>\n",
              "      <td>392.000000</td>\n",
              "      <td>38.820000</td>\n",
              "      <td>23.294600</td>\n",
              "      <td>172.000000</td>\n",
              "    </tr>\n",
              "    <tr>\n",
              "      <th>max</th>\n",
              "      <td>645.110000</td>\n",
              "      <td>1616.910000</td>\n",
              "      <td>1441.490000</td>\n",
              "      <td>570.810000</td>\n",
              "      <td>2388.640000</td>\n",
              "      <td>9244.590000</td>\n",
              "      <td>48.530000</td>\n",
              "      <td>537.490000</td>\n",
              "      <td>2390.490000</td>\n",
              "      <td>8293.720000</td>\n",
              "      <td>11.066900</td>\n",
              "      <td>400.000000</td>\n",
              "      <td>39.890000</td>\n",
              "      <td>23.950500</td>\n",
              "      <td>542.000000</td>\n",
              "    </tr>\n",
              "  </tbody>\n",
              "</table>\n",
              "</div>"
            ],
            "text/plain": [
              "            sensor_2       sensor_3  ...      sensor_21            RUL\n",
              "count  160359.000000  160359.000000  ...  160359.000000  160359.000000\n",
              "mean      597.361022    1467.035653  ...      15.565700     122.331338\n",
              "std        42.478516     118.175261  ...       7.015067      83.538146\n",
              "min       535.480000    1242.670000  ...       6.010500       0.000000\n",
              "25%       549.960000    1357.360000  ...       8.601300      56.000000\n",
              "50%       605.930000    1492.810000  ...      14.953500     113.000000\n",
              "75%       642.340000    1586.590000  ...      23.294600     172.000000\n",
              "max       645.110000    1616.910000  ...      23.950500     542.000000\n",
              "\n",
              "[8 rows x 15 columns]"
            ]
          },
          "metadata": {
            "tags": []
          },
          "execution_count": 5
        }
      ]
    },
    {
      "cell_type": "code",
      "metadata": {
        "colab": {
          "base_uri": "https://localhost:8080/"
        },
        "id": "rBApletNkR-M",
        "outputId": "22ded4ae-5e52-47db-de2c-8d5128b6dc8f"
      },
      "source": [
        "test_df.shape"
      ],
      "execution_count": 6,
      "outputs": [
        {
          "output_type": "execute_result",
          "data": {
            "text/plain": [
              "(104897, 27)"
            ]
          },
          "metadata": {
            "tags": []
          },
          "execution_count": 6
        }
      ]
    },
    {
      "cell_type": "code",
      "metadata": {
        "colab": {
          "base_uri": "https://localhost:8080/"
        },
        "id": "OnE5RHpLkOWd",
        "outputId": "a7d6ef19-8795-4530-ffa6-dcdda3a252f2"
      },
      "source": [
        "y_test.shape"
      ],
      "execution_count": 7,
      "outputs": [
        {
          "output_type": "execute_result",
          "data": {
            "text/plain": [
              "(707, 2)"
            ]
          },
          "metadata": {
            "tags": []
          },
          "execution_count": 7
        }
      ]
    },
    {
      "cell_type": "code",
      "metadata": {
        "id": "GU7sx60asaOE"
      },
      "source": [
        "y_train = train_df['RUL'].values\n",
        "X_train = train_df.drop(columns=['RUL'])\n",
        "model = LinearRegression(normalize=True)"
      ],
      "execution_count": 8,
      "outputs": []
    },
    {
      "cell_type": "code",
      "metadata": {
        "colab": {
          "base_uri": "https://localhost:8080/"
        },
        "id": "BCPEArlx3I9s",
        "outputId": "d217a335-5150-4b4a-e046-2faef5d29774"
      },
      "source": [
        "pipeline = make_pipeline(model)\n",
        "pipeline.fit(X_train, y_train)"
      ],
      "execution_count": 9,
      "outputs": [
        {
          "output_type": "execute_result",
          "data": {
            "text/plain": [
              "Pipeline(memory=None,\n",
              "         steps=[('linearregression',\n",
              "                 LinearRegression(copy_X=True, fit_intercept=True, n_jobs=None,\n",
              "                                  normalize=True))],\n",
              "         verbose=False)"
            ]
          },
          "metadata": {
            "tags": []
          },
          "execution_count": 9
        }
      ]
    },
    {
      "cell_type": "code",
      "metadata": {
        "colab": {
          "base_uri": "https://localhost:8080/"
        },
        "id": "b5LK91dm3JJl",
        "outputId": "1afe622c-d58c-4272-a781-8b578041dc27"
      },
      "source": [
        "pipeline.named_steps"
      ],
      "execution_count": 10,
      "outputs": [
        {
          "output_type": "execute_result",
          "data": {
            "text/plain": [
              "{'linearregression': LinearRegression(copy_X=True, fit_intercept=True, n_jobs=None, normalize=True)}"
            ]
          },
          "metadata": {
            "tags": []
          },
          "execution_count": 10
        }
      ]
    },
    {
      "cell_type": "code",
      "metadata": {
        "colab": {
          "base_uri": "https://localhost:8080/",
          "height": 204
        },
        "id": "PS5e8CIEKFPB",
        "outputId": "76534857-f9a7-4850-cfad-3d2d9eb946f0"
      },
      "source": [
        "test_df.head()"
      ],
      "execution_count": 11,
      "outputs": [
        {
          "output_type": "execute_result",
          "data": {
            "text/html": [
              "<div>\n",
              "<style scoped>\n",
              "    .dataframe tbody tr th:only-of-type {\n",
              "        vertical-align: middle;\n",
              "    }\n",
              "\n",
              "    .dataframe tbody tr th {\n",
              "        vertical-align: top;\n",
              "    }\n",
              "\n",
              "    .dataframe thead th {\n",
              "        text-align: right;\n",
              "    }\n",
              "</style>\n",
              "<table border=\"1\" class=\"dataframe\">\n",
              "  <thead>\n",
              "    <tr style=\"text-align: right;\">\n",
              "      <th></th>\n",
              "      <th>unit_number</th>\n",
              "      <th>time</th>\n",
              "      <th>op_setting_1</th>\n",
              "      <th>op_setting_2</th>\n",
              "      <th>op_setting_3</th>\n",
              "      <th>sensor_1</th>\n",
              "      <th>sensor_2</th>\n",
              "      <th>sensor_3</th>\n",
              "      <th>sensor_4</th>\n",
              "      <th>sensor_5</th>\n",
              "      <th>sensor_6</th>\n",
              "      <th>sensor_7</th>\n",
              "      <th>sensor_8</th>\n",
              "      <th>sensor_9</th>\n",
              "      <th>sensor_10</th>\n",
              "      <th>sensor_11</th>\n",
              "      <th>sensor_12</th>\n",
              "      <th>sensor_13</th>\n",
              "      <th>sensor_14</th>\n",
              "      <th>sensor_15</th>\n",
              "      <th>sensor_16</th>\n",
              "      <th>sensor_17</th>\n",
              "      <th>sensor_18</th>\n",
              "      <th>sensor_19</th>\n",
              "      <th>sensor_20</th>\n",
              "      <th>sensor_21</th>\n",
              "      <th>data_set</th>\n",
              "    </tr>\n",
              "  </thead>\n",
              "  <tbody>\n",
              "    <tr>\n",
              "      <th>0</th>\n",
              "      <td>1</td>\n",
              "      <td>1</td>\n",
              "      <td>0.0023</td>\n",
              "      <td>0.0003</td>\n",
              "      <td>100.0</td>\n",
              "      <td>518.67</td>\n",
              "      <td>643.02</td>\n",
              "      <td>1585.29</td>\n",
              "      <td>1398.21</td>\n",
              "      <td>14.62</td>\n",
              "      <td>21.61</td>\n",
              "      <td>553.90</td>\n",
              "      <td>2388.04</td>\n",
              "      <td>9050.17</td>\n",
              "      <td>1.3</td>\n",
              "      <td>47.20</td>\n",
              "      <td>521.72</td>\n",
              "      <td>2388.03</td>\n",
              "      <td>8125.55</td>\n",
              "      <td>8.4052</td>\n",
              "      <td>0.03</td>\n",
              "      <td>392</td>\n",
              "      <td>2388</td>\n",
              "      <td>100.0</td>\n",
              "      <td>38.86</td>\n",
              "      <td>23.3735</td>\n",
              "      <td>FD001</td>\n",
              "    </tr>\n",
              "    <tr>\n",
              "      <th>1</th>\n",
              "      <td>1</td>\n",
              "      <td>2</td>\n",
              "      <td>-0.0027</td>\n",
              "      <td>-0.0003</td>\n",
              "      <td>100.0</td>\n",
              "      <td>518.67</td>\n",
              "      <td>641.71</td>\n",
              "      <td>1588.45</td>\n",
              "      <td>1395.42</td>\n",
              "      <td>14.62</td>\n",
              "      <td>21.61</td>\n",
              "      <td>554.85</td>\n",
              "      <td>2388.01</td>\n",
              "      <td>9054.42</td>\n",
              "      <td>1.3</td>\n",
              "      <td>47.50</td>\n",
              "      <td>522.16</td>\n",
              "      <td>2388.06</td>\n",
              "      <td>8139.62</td>\n",
              "      <td>8.3803</td>\n",
              "      <td>0.03</td>\n",
              "      <td>393</td>\n",
              "      <td>2388</td>\n",
              "      <td>100.0</td>\n",
              "      <td>39.02</td>\n",
              "      <td>23.3916</td>\n",
              "      <td>FD001</td>\n",
              "    </tr>\n",
              "    <tr>\n",
              "      <th>2</th>\n",
              "      <td>1</td>\n",
              "      <td>3</td>\n",
              "      <td>0.0003</td>\n",
              "      <td>0.0001</td>\n",
              "      <td>100.0</td>\n",
              "      <td>518.67</td>\n",
              "      <td>642.46</td>\n",
              "      <td>1586.94</td>\n",
              "      <td>1401.34</td>\n",
              "      <td>14.62</td>\n",
              "      <td>21.61</td>\n",
              "      <td>554.11</td>\n",
              "      <td>2388.05</td>\n",
              "      <td>9056.96</td>\n",
              "      <td>1.3</td>\n",
              "      <td>47.50</td>\n",
              "      <td>521.97</td>\n",
              "      <td>2388.03</td>\n",
              "      <td>8130.10</td>\n",
              "      <td>8.4441</td>\n",
              "      <td>0.03</td>\n",
              "      <td>393</td>\n",
              "      <td>2388</td>\n",
              "      <td>100.0</td>\n",
              "      <td>39.08</td>\n",
              "      <td>23.4166</td>\n",
              "      <td>FD001</td>\n",
              "    </tr>\n",
              "    <tr>\n",
              "      <th>3</th>\n",
              "      <td>1</td>\n",
              "      <td>4</td>\n",
              "      <td>0.0042</td>\n",
              "      <td>0.0000</td>\n",
              "      <td>100.0</td>\n",
              "      <td>518.67</td>\n",
              "      <td>642.44</td>\n",
              "      <td>1584.12</td>\n",
              "      <td>1406.42</td>\n",
              "      <td>14.62</td>\n",
              "      <td>21.61</td>\n",
              "      <td>554.07</td>\n",
              "      <td>2388.03</td>\n",
              "      <td>9045.29</td>\n",
              "      <td>1.3</td>\n",
              "      <td>47.28</td>\n",
              "      <td>521.38</td>\n",
              "      <td>2388.05</td>\n",
              "      <td>8132.90</td>\n",
              "      <td>8.3917</td>\n",
              "      <td>0.03</td>\n",
              "      <td>391</td>\n",
              "      <td>2388</td>\n",
              "      <td>100.0</td>\n",
              "      <td>39.00</td>\n",
              "      <td>23.3737</td>\n",
              "      <td>FD001</td>\n",
              "    </tr>\n",
              "    <tr>\n",
              "      <th>4</th>\n",
              "      <td>1</td>\n",
              "      <td>5</td>\n",
              "      <td>0.0014</td>\n",
              "      <td>0.0000</td>\n",
              "      <td>100.0</td>\n",
              "      <td>518.67</td>\n",
              "      <td>642.51</td>\n",
              "      <td>1587.19</td>\n",
              "      <td>1401.92</td>\n",
              "      <td>14.62</td>\n",
              "      <td>21.61</td>\n",
              "      <td>554.16</td>\n",
              "      <td>2388.01</td>\n",
              "      <td>9044.55</td>\n",
              "      <td>1.3</td>\n",
              "      <td>47.31</td>\n",
              "      <td>522.15</td>\n",
              "      <td>2388.03</td>\n",
              "      <td>8129.54</td>\n",
              "      <td>8.4031</td>\n",
              "      <td>0.03</td>\n",
              "      <td>390</td>\n",
              "      <td>2388</td>\n",
              "      <td>100.0</td>\n",
              "      <td>38.99</td>\n",
              "      <td>23.4130</td>\n",
              "      <td>FD001</td>\n",
              "    </tr>\n",
              "  </tbody>\n",
              "</table>\n",
              "</div>"
            ],
            "text/plain": [
              "   unit_number  time  op_setting_1  ...  sensor_20  sensor_21  data_set\n",
              "0            1     1        0.0023  ...      38.86    23.3735     FD001\n",
              "1            1     2       -0.0027  ...      39.02    23.3916     FD001\n",
              "2            1     3        0.0003  ...      39.08    23.4166     FD001\n",
              "3            1     4        0.0042  ...      39.00    23.3737     FD001\n",
              "4            1     5        0.0014  ...      38.99    23.4130     FD001\n",
              "\n",
              "[5 rows x 27 columns]"
            ]
          },
          "metadata": {
            "tags": []
          },
          "execution_count": 11
        }
      ]
    },
    {
      "cell_type": "code",
      "metadata": {
        "id": "hh4JlRhK3JTb"
      },
      "source": [
        "# only want to make predictions based on the last timestamp (cycle) for each engine in test set\n",
        "test_df = test_df.sort_values(['data_set', 'unit_number', 'time'], ascending=[True, True, True])\n",
        "test_df = (test_df\n",
        "            .groupby(['unit_number', 'data_set'])\n",
        "            .last()\n",
        "            .reset_index()\n",
        "            .pipe(preprocess))\n",
        "predictions = np.floor(pipeline.predict(test_df))"
      ],
      "execution_count": 12,
      "outputs": []
    },
    {
      "cell_type": "code",
      "metadata": {
        "colab": {
          "base_uri": "https://localhost:8080/"
        },
        "id": "-gS6Qpo3DFo3",
        "outputId": "215cd7f2-6116-4c0b-9f96-f41a5c0edbab"
      },
      "source": [
        "test_rmse = mean_squared_error(y_test['RUL'].values, predictions, squared=False)\n",
        "print(f'Test Set RMSE: {test_rmse}')"
      ],
      "execution_count": 13,
      "outputs": [
        {
          "output_type": "stream",
          "text": [
            "Test Set RMSE: 79.24241716987838\n"
          ],
          "name": "stdout"
        }
      ]
    },
    {
      "cell_type": "code",
      "metadata": {
        "colab": {
          "base_uri": "https://localhost:8080/",
          "height": 359
        },
        "id": "DRAf9RRYDS6N",
        "outputId": "22ce56d8-f0aa-4bb4-c7e9-996b4939f53f"
      },
      "source": [
        "y_test[:10]"
      ],
      "execution_count": 14,
      "outputs": [
        {
          "output_type": "execute_result",
          "data": {
            "text/html": [
              "<div>\n",
              "<style scoped>\n",
              "    .dataframe tbody tr th:only-of-type {\n",
              "        vertical-align: middle;\n",
              "    }\n",
              "\n",
              "    .dataframe tbody tr th {\n",
              "        vertical-align: top;\n",
              "    }\n",
              "\n",
              "    .dataframe thead th {\n",
              "        text-align: right;\n",
              "    }\n",
              "</style>\n",
              "<table border=\"1\" class=\"dataframe\">\n",
              "  <thead>\n",
              "    <tr style=\"text-align: right;\">\n",
              "      <th></th>\n",
              "      <th>RUL</th>\n",
              "      <th>data_set</th>\n",
              "    </tr>\n",
              "  </thead>\n",
              "  <tbody>\n",
              "    <tr>\n",
              "      <th>0</th>\n",
              "      <td>112</td>\n",
              "      <td>FD001</td>\n",
              "    </tr>\n",
              "    <tr>\n",
              "      <th>1</th>\n",
              "      <td>98</td>\n",
              "      <td>FD001</td>\n",
              "    </tr>\n",
              "    <tr>\n",
              "      <th>2</th>\n",
              "      <td>69</td>\n",
              "      <td>FD001</td>\n",
              "    </tr>\n",
              "    <tr>\n",
              "      <th>3</th>\n",
              "      <td>82</td>\n",
              "      <td>FD001</td>\n",
              "    </tr>\n",
              "    <tr>\n",
              "      <th>4</th>\n",
              "      <td>91</td>\n",
              "      <td>FD001</td>\n",
              "    </tr>\n",
              "    <tr>\n",
              "      <th>5</th>\n",
              "      <td>93</td>\n",
              "      <td>FD001</td>\n",
              "    </tr>\n",
              "    <tr>\n",
              "      <th>6</th>\n",
              "      <td>91</td>\n",
              "      <td>FD001</td>\n",
              "    </tr>\n",
              "    <tr>\n",
              "      <th>7</th>\n",
              "      <td>95</td>\n",
              "      <td>FD001</td>\n",
              "    </tr>\n",
              "    <tr>\n",
              "      <th>8</th>\n",
              "      <td>111</td>\n",
              "      <td>FD001</td>\n",
              "    </tr>\n",
              "    <tr>\n",
              "      <th>9</th>\n",
              "      <td>96</td>\n",
              "      <td>FD001</td>\n",
              "    </tr>\n",
              "  </tbody>\n",
              "</table>\n",
              "</div>"
            ],
            "text/plain": [
              "   RUL data_set\n",
              "0  112    FD001\n",
              "1   98    FD001\n",
              "2   69    FD001\n",
              "3   82    FD001\n",
              "4   91    FD001\n",
              "5   93    FD001\n",
              "6   91    FD001\n",
              "7   95    FD001\n",
              "8  111    FD001\n",
              "9   96    FD001"
            ]
          },
          "metadata": {
            "tags": []
          },
          "execution_count": 14
        }
      ]
    },
    {
      "cell_type": "code",
      "metadata": {
        "colab": {
          "base_uri": "https://localhost:8080/"
        },
        "id": "eOj1M5w8DW6u",
        "outputId": "9ae629fd-2582-4c58-a2bf-56a135d84f5c"
      },
      "source": [
        "predictions[:10]"
      ],
      "execution_count": 15,
      "outputs": [
        {
          "output_type": "execute_result",
          "data": {
            "text/plain": [
              "array([157., -15., 124.,  99., 147., 124., 120.,  84.,  80., 145.])"
            ]
          },
          "metadata": {
            "tags": []
          },
          "execution_count": 15
        }
      ]
    },
    {
      "cell_type": "code",
      "metadata": {
        "colab": {
          "base_uri": "https://localhost:8080/",
          "height": 359
        },
        "id": "5NqQ6Q8-Da-r",
        "outputId": "99e38dbe-87dd-4421-a787-5249e9ef5fdc"
      },
      "source": [
        "y_test[-10:]"
      ],
      "execution_count": 16,
      "outputs": [
        {
          "output_type": "execute_result",
          "data": {
            "text/html": [
              "<div>\n",
              "<style scoped>\n",
              "    .dataframe tbody tr th:only-of-type {\n",
              "        vertical-align: middle;\n",
              "    }\n",
              "\n",
              "    .dataframe tbody tr th {\n",
              "        vertical-align: top;\n",
              "    }\n",
              "\n",
              "    .dataframe thead th {\n",
              "        text-align: right;\n",
              "    }\n",
              "</style>\n",
              "<table border=\"1\" class=\"dataframe\">\n",
              "  <thead>\n",
              "    <tr style=\"text-align: right;\">\n",
              "      <th></th>\n",
              "      <th>RUL</th>\n",
              "      <th>data_set</th>\n",
              "    </tr>\n",
              "  </thead>\n",
              "  <tbody>\n",
              "    <tr>\n",
              "      <th>238</th>\n",
              "      <td>166</td>\n",
              "      <td>FD004</td>\n",
              "    </tr>\n",
              "    <tr>\n",
              "      <th>239</th>\n",
              "      <td>98</td>\n",
              "      <td>FD004</td>\n",
              "    </tr>\n",
              "    <tr>\n",
              "      <th>240</th>\n",
              "      <td>176</td>\n",
              "      <td>FD004</td>\n",
              "    </tr>\n",
              "    <tr>\n",
              "      <th>241</th>\n",
              "      <td>81</td>\n",
              "      <td>FD004</td>\n",
              "    </tr>\n",
              "    <tr>\n",
              "      <th>242</th>\n",
              "      <td>118</td>\n",
              "      <td>FD004</td>\n",
              "    </tr>\n",
              "    <tr>\n",
              "      <th>243</th>\n",
              "      <td>35</td>\n",
              "      <td>FD004</td>\n",
              "    </tr>\n",
              "    <tr>\n",
              "      <th>244</th>\n",
              "      <td>131</td>\n",
              "      <td>FD004</td>\n",
              "    </tr>\n",
              "    <tr>\n",
              "      <th>245</th>\n",
              "      <td>194</td>\n",
              "      <td>FD004</td>\n",
              "    </tr>\n",
              "    <tr>\n",
              "      <th>246</th>\n",
              "      <td>112</td>\n",
              "      <td>FD004</td>\n",
              "    </tr>\n",
              "    <tr>\n",
              "      <th>247</th>\n",
              "      <td>26</td>\n",
              "      <td>FD004</td>\n",
              "    </tr>\n",
              "  </tbody>\n",
              "</table>\n",
              "</div>"
            ],
            "text/plain": [
              "     RUL data_set\n",
              "238  166    FD004\n",
              "239   98    FD004\n",
              "240  176    FD004\n",
              "241   81    FD004\n",
              "242  118    FD004\n",
              "243   35    FD004\n",
              "244  131    FD004\n",
              "245  194    FD004\n",
              "246  112    FD004\n",
              "247   26    FD004"
            ]
          },
          "metadata": {
            "tags": []
          },
          "execution_count": 16
        }
      ]
    },
    {
      "cell_type": "code",
      "metadata": {
        "colab": {
          "base_uri": "https://localhost:8080/"
        },
        "id": "sNvewK0nDwgq",
        "outputId": "10542ee5-3d35-402c-b542-0f532e5fec93"
      },
      "source": [
        "predictions[-10:]"
      ],
      "execution_count": 17,
      "outputs": [
        {
          "output_type": "execute_result",
          "data": {
            "text/plain": [
              "array([ 17., 139.,  -7.,  68.,  17., 121., 114., 105., 144., 132.])"
            ]
          },
          "metadata": {
            "tags": []
          },
          "execution_count": 17
        }
      ]
    },
    {
      "cell_type": "code",
      "metadata": {
        "id": "yIgL4CnHGCP-"
      },
      "source": [
        "## TODO: 1) analysis of errors for each data set type"
      ],
      "execution_count": 18,
      "outputs": []
    },
    {
      "cell_type": "code",
      "metadata": {
        "id": "rRC5xJCshmOU"
      },
      "source": [
        ""
      ],
      "execution_count": 18,
      "outputs": []
    },
    {
      "cell_type": "code",
      "metadata": {
        "id": "3FL2pdFJjJCD"
      },
      "source": [
        ""
      ],
      "execution_count": 18,
      "outputs": []
    }
  ]
}